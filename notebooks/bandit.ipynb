{
 "cells": [
  {
   "cell_type": "code",
   "execution_count": null,
   "metadata": {},
   "outputs": [],
   "source": [
    "%load_ext autoreload\n",
    "%autoreload 2"
   ]
  },
  {
   "cell_type": "code",
   "execution_count": null,
   "metadata": {
    "colab": {},
    "colab_type": "code",
    "id": "-E2YX9BwFur7",
    "scrolled": true
   },
   "outputs": [],
   "source": [
    "from __future__ import division\n",
    "from copy import deepcopy\n",
    "import pickle\n",
    "import uuid\n",
    "import os\n",
    "\n",
    "import tensorflow as tf\n",
    "import numpy as np\n",
    "\n",
    "from rqst.traj_opt import GDTrajOptimizer, StochTrajOptimizer\n",
    "from rqst.reward_models import RewardModel, BCRewardModel\n",
    "from rqst.reward_opt import InteractiveRewardOptimizer\n",
    "from rqst.dynamics_models import DynamicsModel\n",
    "from rqst import reward_models\n",
    "from rqst import utils\n",
    "from rqst import envs"
   ]
  },
  {
   "cell_type": "code",
   "execution_count": null,
   "metadata": {
    "colab": {},
    "colab_type": "code",
    "id": "ASKqw6QpFur-",
    "scrolled": true
   },
   "outputs": [],
   "source": [
    "from matplotlib import pyplot as plt\n",
    "import matplotlib as mpl\n",
    "\n",
    "%matplotlib inline"
   ]
  },
  {
   "cell_type": "code",
   "execution_count": null,
   "metadata": {},
   "outputs": [],
   "source": [
    "import warnings\n",
    "warnings.filterwarnings('ignore')"
   ]
  },
  {
   "cell_type": "code",
   "execution_count": null,
   "metadata": {
    "colab": {},
    "colab_type": "code",
    "id": "U0Q0o0dUFusG",
    "scrolled": true
   },
   "outputs": [],
   "source": [
    "sess = utils.make_tf_session(gpu_mode=False)"
   ]
  },
  {
   "cell_type": "code",
   "execution_count": null,
   "metadata": {},
   "outputs": [],
   "source": [
    "env = envs.make_bandit_env()\n",
    "trans_env = envs.make_bandit_trans_env(env)"
   ]
  },
  {
   "cell_type": "code",
   "execution_count": null,
   "metadata": {},
   "outputs": [],
   "source": [
    "expert_policy = env.expert_policy\n",
    "random_policy = utils.make_random_policy(env)\n",
    "\n",
    "plot_traj = lambda traj, *args, **kwargs: utils.plot_trajs([traj], *args, **kwargs)"
   ]
  },
  {
   "cell_type": "markdown",
   "metadata": {
    "colab_type": "text",
    "id": "M6374BjIFusm"
   },
   "source": []
  },
  {
   "cell_type": "code",
   "execution_count": null,
   "metadata": {
    "colab": {
     "height": 253
    },
    "colab_type": "code",
    "executionInfo": {
     "elapsed": 199,
     "status": "ok",
     "timestamp": 1560272736168,
     "user": {
      "displayName": "Sid Reddy",
      "photoUrl": "",
      "userId": "00109661562254874883"
     },
     "user_tz": -60
    },
    "id": "N7c6jf8nXcDC",
    "outputId": "e750409b-5e7b-4e43-f13f-8406cdcb9585"
   },
   "outputs": [],
   "source": [
    "plot_traj(utils.traj_of_rollout(utils.run_ep(expert_policy, env)), env)"
   ]
  },
  {
   "cell_type": "code",
   "execution_count": null,
   "metadata": {
    "colab": {
     "height": 253
    },
    "colab_type": "code",
    "executionInfo": {
     "elapsed": 133,
     "status": "ok",
     "timestamp": 1560272738523,
     "user": {
      "displayName": "Sid Reddy",
      "photoUrl": "",
      "userId": "00109661562254874883"
     },
     "user_tz": -60
    },
    "id": "nYg3uKMwcOo6",
    "outputId": "3c7f1536-b1cf-471f-ab5a-35ae4b26fe81"
   },
   "outputs": [],
   "source": [
    "plot_traj(utils.traj_of_rollout(utils.run_ep(random_policy, env)), env)"
   ]
  },
  {
   "cell_type": "code",
   "execution_count": null,
   "metadata": {},
   "outputs": [],
   "source": [
    "plot_traj(utils.traj_of_rollout(utils.run_ep(expert_policy, trans_env)), trans_env)"
   ]
  },
  {
   "cell_type": "code",
   "execution_count": null,
   "metadata": {},
   "outputs": [],
   "source": [
    "plot_traj(utils.traj_of_rollout(utils.run_ep(random_policy, trans_env)), trans_env)"
   ]
  },
  {
   "cell_type": "markdown",
   "metadata": {
    "colab_type": "text",
    "id": "x29AwDLUFus5"
   },
   "source": []
  },
  {
   "cell_type": "code",
   "execution_count": null,
   "metadata": {
    "colab": {},
    "colab_type": "code",
    "id": "9VOL3_wmFus6",
    "scrolled": true
   },
   "outputs": [],
   "source": [
    "n_demo_rollouts = 100"
   ]
  },
  {
   "cell_type": "code",
   "execution_count": null,
   "metadata": {
    "colab": {},
    "colab_type": "code",
    "id": "Gy31c8r3FutA",
    "scrolled": true
   },
   "outputs": [],
   "source": [
    "demo_rollouts = [utils.run_ep(expert_policy, env) for _ in range(n_demo_rollouts)]"
   ]
  },
  {
   "cell_type": "code",
   "execution_count": null,
   "metadata": {},
   "outputs": [],
   "source": [
    "#demo_rollouts += [utils.run_ep(expert_policy, trans_env) for _ in range(n_demo_rollouts)] # DEBUG"
   ]
  },
  {
   "cell_type": "code",
   "execution_count": null,
   "metadata": {
    "colab": {},
    "colab_type": "code",
    "id": "1r58Fl3fFutC",
    "scrolled": true
   },
   "outputs": [],
   "source": [
    "with open(os.path.join(utils.bandit_data_dir, 'demo_rollouts.pkl'), 'wb') as f:\n",
    "  pickle.dump(demo_rollouts, f, pickle.HIGHEST_PROTOCOL)"
   ]
  },
  {
   "cell_type": "markdown",
   "metadata": {},
   "source": []
  },
  {
   "cell_type": "code",
   "execution_count": null,
   "metadata": {},
   "outputs": [],
   "source": [
    "demo_perf = utils.compute_perf_metrics(demo_rollouts, env)"
   ]
  },
  {
   "cell_type": "code",
   "execution_count": null,
   "metadata": {},
   "outputs": [],
   "source": [
    "demo_perf"
   ]
  },
  {
   "cell_type": "markdown",
   "metadata": {},
   "source": []
  },
  {
   "cell_type": "code",
   "execution_count": null,
   "metadata": {
    "colab": {},
    "colab_type": "code",
    "id": "U7iY2vdUOXMh"
   },
   "outputs": [],
   "source": [
    "n_aug_rollouts = 100"
   ]
  },
  {
   "cell_type": "code",
   "execution_count": null,
   "metadata": {
    "colab": {},
    "colab_type": "code",
    "id": "-2nbnzm9OXMj"
   },
   "outputs": [],
   "source": [
    "aug_rollouts = demo_rollouts + [utils.run_ep(expert_policy, trans_env) for _ in range(n_aug_rollouts)]"
   ]
  },
  {
   "cell_type": "code",
   "execution_count": null,
   "metadata": {
    "colab": {},
    "colab_type": "code",
    "id": "_jrxxMsqOXMm"
   },
   "outputs": [],
   "source": [
    "with open(os.path.join(utils.bandit_data_dir, 'aug_rollouts.pkl'), 'wb') as f:\n",
    "  pickle.dump(aug_rollouts, f, pickle.HIGHEST_PROTOCOL)"
   ]
  },
  {
   "cell_type": "markdown",
   "metadata": {
    "colab_type": "text",
    "id": "iM2KP0f4JvKy"
   },
   "source": []
  },
  {
   "cell_type": "code",
   "execution_count": null,
   "metadata": {
    "colab": {},
    "colab_type": "code",
    "id": "xl73qZW8H1N0"
   },
   "outputs": [],
   "source": [
    "with open(os.path.join(utils.bandit_data_dir, 'demo_rollouts.pkl'), 'rb') as f:\n",
    "  demo_rollouts = pickle.load(f)\n",
    "\n",
    "with open(os.path.join(utils.bandit_data_dir, 'aug_rollouts.pkl'), 'rb') as f:\n",
    "  aug_rollouts = pickle.load(f)"
   ]
  },
  {
   "cell_type": "code",
   "execution_count": null,
   "metadata": {
    "colab": {
     "height": 33
    },
    "colab_type": "code",
    "executionInfo": {
     "elapsed": 1355,
     "status": "ok",
     "timestamp": 1560341364392,
     "user": {
      "displayName": "Sid Reddy",
      "photoUrl": "",
      "userId": "00109661562254874883"
     },
     "user_tz": -60
    },
    "id": "8H5hj2cN57_9",
    "outputId": "81fb3e2d-fdb9-4223-fc23-b5d84934f175"
   },
   "outputs": [],
   "source": [
    "demo_data = utils.split_rollouts(utils.vectorize_rollouts(demo_rollouts, env.max_ep_len))\n",
    "aug_data = utils.split_rollouts(utils.vectorize_rollouts(aug_rollouts, env.max_ep_len))\n",
    "demo_data['obses'].shape, aug_data['obses'].shape"
   ]
  },
  {
   "cell_type": "markdown",
   "metadata": {
    "colab_type": "text",
    "id": "7-miye4XtGLl"
   },
   "source": []
  },
  {
   "cell_type": "code",
   "execution_count": null,
   "metadata": {
    "colab": {},
    "colab_type": "code",
    "id": "7--osRGds7WN"
   },
   "outputs": [],
   "source": [
    "dynamics_model = DynamicsModel(sess, env)"
   ]
  },
  {
   "cell_type": "markdown",
   "metadata": {
    "colab_type": "text",
    "id": "LkvuD7UttA_X"
   },
   "source": []
  },
  {
   "cell_type": "code",
   "execution_count": null,
   "metadata": {},
   "outputs": [],
   "source": [
    "sketch_data_for_reward_model = None\n",
    "sketch_rollouts_for_reward_model = None\n",
    "\n",
    "pref_data_for_reward_model = None\n",
    "pref_logs_for_reward_model = None"
   ]
  },
  {
   "cell_type": "markdown",
   "metadata": {},
   "source": []
  },
  {
   "cell_type": "code",
   "execution_count": null,
   "metadata": {},
   "outputs": [],
   "source": [
    "demo_data_for_reward_model = demo_data\n",
    "demo_rollouts_for_reward_model = demo_rollouts"
   ]
  },
  {
   "cell_type": "code",
   "execution_count": null,
   "metadata": {},
   "outputs": [],
   "source": [
    "reward_model = BCRewardModel(\n",
    "    sess,\n",
    "    env,\n",
    "    n_rew_nets_in_ensemble=4,\n",
    "    n_layers=0,\n",
    "    layer_size=64,\n",
    "    scope=str(uuid.uuid4()),\n",
    "    scope_file=os.path.join(utils.bandit_data_dir, 'bc_rew_scope.pkl'),\n",
    "    tf_file=os.path.join(utils.bandit_data_dir, 'bc_rew.tf'),\n",
    "    rew_func_input='sa',\n",
    "    use_discrete_actions=True\n",
    "    )"
   ]
  },
  {
   "cell_type": "code",
   "execution_count": null,
   "metadata": {
    "colab": {
     "height": 802
    },
    "colab_type": "code",
    "executionInfo": {
     "elapsed": 14585,
     "status": "error",
     "timestamp": 1560277061008,
     "user": {
      "displayName": "Sid Reddy",
      "photoUrl": "",
      "userId": "00109661562254874883"
     },
     "user_tz": -60
    },
    "id": "6ZPNlaTjW2fU",
    "outputId": "26618c1a-b039-4529-e7fe-756463123f5f",
    "scrolled": true
   },
   "outputs": [],
   "source": [
    "reward_model.train(\n",
    "    demo_data=demo_data_for_reward_model,\n",
    "    sketch_data=sketch_data_for_reward_model,\n",
    "    pref_data=pref_data_for_reward_model,\n",
    "    demo_coeff=1.,\n",
    "    sketch_coeff=1.,\n",
    "    iterations=100000,\n",
    "    ftol=1e-4,\n",
    "    batch_size=32,\n",
    "    learning_rate=1e-2,\n",
    "    val_update_freq=10,\n",
    "    verbose=True\n",
    "    )"
   ]
  },
  {
   "cell_type": "code",
   "execution_count": null,
   "metadata": {
    "colab": {},
    "colab_type": "code",
    "id": "Cz_BYCPIJr5c"
   },
   "outputs": [],
   "source": [
    "reward_model.save()"
   ]
  },
  {
   "cell_type": "code",
   "execution_count": null,
   "metadata": {
    "colab": {},
    "colab_type": "code",
    "id": "y9jvFBbAJr2W"
   },
   "outputs": [],
   "source": [
    "reward_model.load()"
   ]
  },
  {
   "cell_type": "markdown",
   "metadata": {},
   "source": []
  },
  {
   "cell_type": "code",
   "execution_count": null,
   "metadata": {},
   "outputs": [],
   "source": [
    "reward_model.viz_learned_rew()"
   ]
  },
  {
   "cell_type": "markdown",
   "metadata": {
    "colab_type": "text",
    "id": "0D9uLwsltKYc"
   },
   "source": []
  },
  {
   "cell_type": "code",
   "execution_count": null,
   "metadata": {
    "colab": {},
    "colab_type": "code",
    "id": "dvfa46LUFuu-"
   },
   "outputs": [],
   "source": [
    "traj_optimizer = GDTrajOptimizer(\n",
    "    sess,\n",
    "    env,\n",
    "    reward_model,\n",
    "    dynamics_model,         \n",
    "    traj_len=2,\n",
    "    n_trajs=1,\n",
    "    prior_coeff=0.,\n",
    "    diversity_coeff=0.,\n",
    "    #query_loss_opt='rew_uncertainty',\n",
    "    #query_loss_opt='max_nov',\n",
    "    query_loss_opt='max_imi_pol_uncertainty',\n",
    "    opt_init_obs=True,\n",
    "    join_trajs_at_init_state=False,\n",
    "    learning_rate=1e-2,\n",
    "    query_type='demo'\n",
    "    )"
   ]
  },
  {
   "cell_type": "code",
   "execution_count": null,
   "metadata": {
    "colab": {
     "height": 1265
    },
    "colab_type": "code",
    "executionInfo": {
     "elapsed": 22033,
     "status": "ok",
     "timestamp": 1560277856337,
     "user": {
      "displayName": "Sid Reddy",
      "photoUrl": "",
      "userId": "00109661562254874883"
     },
     "user_tz": -60
    },
    "id": "sBwDoTQ1a0fB",
    "outputId": "a94452a0-6388-4d5a-ee9c-6d9de9ffb2a7"
   },
   "outputs": [],
   "source": [
    "data = traj_optimizer.run(\n",
    "    #init_obs=env.default_init_obs,\n",
    "    init_obs=None,\n",
    "    iterations=10000,\n",
    "    ftol=1e-6,\n",
    "    verbose=True,\n",
    "    warm_start=False\n",
    "    )\n",
    "trajs = data['traj']"
   ]
  },
  {
   "cell_type": "code",
   "execution_count": null,
   "metadata": {},
   "outputs": [],
   "source": [
    "trajs"
   ]
  },
  {
   "cell_type": "code",
   "execution_count": null,
   "metadata": {},
   "outputs": [],
   "source": [
    "utils.plot_trajs(trajs, env)"
   ]
  },
  {
   "cell_type": "markdown",
   "metadata": {},
   "source": []
  },
  {
   "cell_type": "code",
   "execution_count": null,
   "metadata": {
    "colab": {
     "height": 183
    },
    "colab_type": "code",
    "executionInfo": {
     "elapsed": 406,
     "status": "ok",
     "timestamp": 1560278067673,
     "user": {
      "displayName": "Sid Reddy",
      "photoUrl": "",
      "userId": "00109661562254874883"
     },
     "user_tz": -60
    },
    "id": "FYNFUWC5pd1q",
    "outputId": "8e7b83c4-d585-4ac7-ec0d-122475a6736b"
   },
   "outputs": [],
   "source": [
    "rew_eval = reward_models.evaluate_reward_model(\n",
    "    sess,\n",
    "    env,\n",
    "    trans_env,\n",
    "    reward_model, \n",
    "    dynamics_model, \n",
    "    offpol_eval_rollouts=sketch_rollouts_for_reward_model,\n",
    "    n_eval_rollouts=100\n",
    "    )"
   ]
  },
  {
   "cell_type": "code",
   "execution_count": null,
   "metadata": {},
   "outputs": [],
   "source": [
    "rew_eval['perf']"
   ]
  },
  {
   "cell_type": "code",
   "execution_count": null,
   "metadata": {},
   "outputs": [],
   "source": [
    "utils.viz_rew_eval(rew_eval, env)"
   ]
  },
  {
   "cell_type": "code",
   "execution_count": null,
   "metadata": {},
   "outputs": [],
   "source": [
    "with open(os.path.join(utils.bandit_data_dir, 'opt_rew_eval.pkl'), 'wb') as f:\n",
    "  pickle.dump(rew_eval, f, pickle.HIGHEST_PROTOCOL)"
   ]
  },
  {
   "cell_type": "code",
   "execution_count": null,
   "metadata": {},
   "outputs": [],
   "source": [
    "with open(os.path.join(utils.bandit_data_dir, 'opt_rew_eval.pkl'), 'rb') as f:\n",
    "  opt_rew_eval = pickle.load(f)"
   ]
  },
  {
   "cell_type": "markdown",
   "metadata": {
    "colab_type": "text",
    "id": "kK4aoy9zlFXV"
   },
   "source": []
  },
  {
   "cell_type": "code",
   "execution_count": null,
   "metadata": {
    "colab": {},
    "colab_type": "code",
    "id": "jWHsGDV9krG_"
   },
   "outputs": [],
   "source": [
    "traj_optimizer = StochTrajOptimizer(\n",
    "    sess,\n",
    "    env,\n",
    "    reward_model,\n",
    "    dynamics_model,\n",
    "    traj_len=2,\n",
    "    rollout_len=1,\n",
    "    #query_loss_opt='max_nov',\n",
    "    #query_loss_opt='max_imi_pol_uncertainty',\n",
    "    query_loss_opt='unif',\n",
    "    use_rand_policy=False,\n",
    "    query_type='demo'\n",
    "    )"
   ]
  },
  {
   "cell_type": "code",
   "execution_count": null,
   "metadata": {
    "colab": {
     "height": 66920
    },
    "colab_type": "code",
    "executionInfo": {
     "elapsed": 2958,
     "status": "ok",
     "timestamp": 1560278591962,
     "user": {
      "displayName": "Sid Reddy",
      "photoUrl": "",
      "userId": "00109661562254874883"
     },
     "user_tz": -60
    },
    "id": "Nil04K74krC1",
    "outputId": "a932c7d8-7527-4ee4-f416-9b06b0e9a082",
    "scrolled": false
   },
   "outputs": [],
   "source": [
    "data = traj_optimizer.run(\n",
    "    n_trajs=1,\n",
    "    n_samples=1000,\n",
    "    init_obs=None,\n",
    "    #init_obs=env.default_init_obs,\n",
    "    verbose=True\n",
    "    )\n",
    "trajs = data['traj']"
   ]
  },
  {
   "cell_type": "code",
   "execution_count": null,
   "metadata": {},
   "outputs": [],
   "source": [
    "utils.plot_trajs(trajs, env)"
   ]
  },
  {
   "cell_type": "markdown",
   "metadata": {
    "colab_type": "text",
    "id": "PQROLo_2szLW"
   },
   "source": []
  },
  {
   "cell_type": "code",
   "execution_count": null,
   "metadata": {},
   "outputs": [],
   "source": [
    "offpol_eval_rollouts = aug_rollouts"
   ]
  },
  {
   "cell_type": "code",
   "execution_count": null,
   "metadata": {},
   "outputs": [],
   "source": [
    "demo_rollouts_for_reward_model = None"
   ]
  },
  {
   "cell_type": "code",
   "execution_count": null,
   "metadata": {},
   "outputs": [],
   "source": [
    "demo_rollouts_for_reward_model = demo_rollouts[:1]"
   ]
  },
  {
   "cell_type": "code",
   "execution_count": null,
   "metadata": {},
   "outputs": [],
   "source": [
    "reward_model = BCRewardModel(\n",
    "    sess,\n",
    "    env,\n",
    "    n_rew_nets_in_ensemble=4,\n",
    "    n_layers=0,\n",
    "    layer_size=64,\n",
    "    scope=str(uuid.uuid4()),\n",
    "    scope_file=os.path.join(utils.bandit_data_dir, 'bc_rew_scope.pkl'),\n",
    "    tf_file=os.path.join(utils.bandit_data_dir, 'bc_rew.tf'),\n",
    "    rew_func_input='sa',\n",
    "    use_discrete_actions=True\n",
    "    )"
   ]
  },
  {
   "cell_type": "code",
   "execution_count": null,
   "metadata": {},
   "outputs": [],
   "source": [
    "dynamics_model = DynamicsModel(sess, env)"
   ]
  },
  {
   "cell_type": "code",
   "execution_count": null,
   "metadata": {},
   "outputs": [],
   "source": [
    "rew_optimizer = InteractiveRewardOptimizer(\n",
    "    sess,\n",
    "    env, \n",
    "    trans_env,\n",
    "    reward_model, \n",
    "    dynamics_model\n",
    "    )"
   ]
  },
  {
   "cell_type": "code",
   "execution_count": null,
   "metadata": {
    "colab": {},
    "colab_type": "code",
    "id": "5tEE0s96sXih"
   },
   "outputs": [],
   "source": [
    "reward_train_kwargs = {\n",
    "    'demo_coeff': 1.,\n",
    "    'sketch_coeff': 1.,\n",
    "    'iterations': 5000,\n",
    "    'ftol': 1e-4,\n",
    "    'batch_size': 32,\n",
    "    'learning_rate': 1e-2,\n",
    "    'val_update_freq': 100,\n",
    "    'verbose': False\n",
    "    }\n",
    "\n",
    "dynamics_train_kwargs = {}\n",
    "\n",
    "gd_traj_opt_init_kwargs = {        \n",
    "    'traj_len': 2,\n",
    "    'n_trajs': 1,\n",
    "    'prior_coeff': 0.,\n",
    "    'diversity_coeff': 0.,\n",
    "    'query_loss_opt': 'max_imi_pol_uncertainty',\n",
    "    'opt_init_obs': True,\n",
    "    'learning_rate': 1e-2,\n",
    "    'join_trajs_at_init_state': False\n",
    "    }\n",
    "\n",
    "gd_traj_opt_run_kwargs = {\n",
    "    'init_obs': None,\n",
    "    'iterations': 10000,\n",
    "    'ftol': 1e-6,\n",
    "    'verbose': False,\n",
    "    'warm_start': False\n",
    "    }\n",
    "\n",
    "stoch_traj_opt_init_kwargs = {        \n",
    "    'traj_len': 2,\n",
    "    'rollout_len': 1,\n",
    "    'query_loss_opt': 'unif',\n",
    "    'use_rand_policy': False\n",
    "    }\n",
    "\n",
    "stoch_traj_opt_run_kwargs = {\n",
    "    'n_trajs': 1,\n",
    "    'n_samples': 1,\n",
    "    'init_obs': None,\n",
    "    'verbose': False\n",
    "    }\n",
    "\n",
    "imitation_kwargs = {}\n",
    "\n",
    "eval_kwargs = {\n",
    "    'n_eval_rollouts': 100,\n",
    "    'offpol_eval_rollouts': offpol_eval_rollouts\n",
    "    }"
   ]
  },
  {
   "cell_type": "code",
   "execution_count": null,
   "metadata": {},
   "outputs": [],
   "source": [
    "rew_opt_kwargs = {\n",
    "    'demo_rollouts': demo_rollouts_for_reward_model,\n",
    "    'sketch_rollouts': sketch_rollouts_for_reward_model,\n",
    "    'pref_logs': pref_logs_for_reward_model,\n",
    "    'rollouts_for_dyn': [],#aug_rollouts,\n",
    "    'reward_train_kwargs': reward_train_kwargs,\n",
    "    'dynamics_train_kwargs': dynamics_train_kwargs,\n",
    "    'imitation_kwargs': imitation_kwargs,\n",
    "    'eval_kwargs': eval_kwargs,\n",
    "    'init_train_dyn': False,\n",
    "    'init_train_rew': True,\n",
    "    'n_imitation_rollouts_per_dyn_update': 1,\n",
    "    'n_queries': 20,\n",
    "    'reward_update_freq': 1,\n",
    "    'reward_eval_freq': 1,\n",
    "    'dyn_update_freq': None,\n",
    "    'verbose': True,\n",
    "    'warm_start_rew': False,\n",
    "    'query_type': 'demo'\n",
    "    }"
   ]
  },
  {
   "cell_type": "code",
   "execution_count": null,
   "metadata": {
    "colab": {},
    "colab_type": "code",
    "id": "V4IKPMHjno8Q",
    "scrolled": true
   },
   "outputs": [],
   "source": [
    "rew_perf_evals, query_data = rew_optimizer.run(\n",
    "    traj_opt_cls=GDTrajOptimizer,\n",
    "    traj_opt_run_kwargs=gd_traj_opt_run_kwargs,\n",
    "    traj_opt_init_kwargs=gd_traj_opt_init_kwargs,\n",
    "    **rew_opt_kwargs\n",
    "    )"
   ]
  },
  {
   "cell_type": "code",
   "execution_count": null,
   "metadata": {},
   "outputs": [],
   "source": [
    "rew_perf_evals = rew_optimizer.rew_perf_evals\n",
    "query_data = rew_optimizer.query_data"
   ]
  },
  {
   "cell_type": "code",
   "execution_count": null,
   "metadata": {},
   "outputs": [],
   "source": [
    "plt.plot(rew_perf_evals['n_queries'], rew_perf_evals['rew'])\n",
    "plt.show()"
   ]
  },
  {
   "cell_type": "code",
   "execution_count": null,
   "metadata": {},
   "outputs": [],
   "source": [
    "viz_query_data(query_data, env)"
   ]
  },
  {
   "cell_type": "markdown",
   "metadata": {},
   "source": []
  },
  {
   "cell_type": "code",
   "execution_count": null,
   "metadata": {},
   "outputs": [],
   "source": [
    "def eval_query_loss(query_loss_opt):\n",
    "  traj_opt_init_kwargs = deepcopy(gd_traj_opt_init_kwargs)\n",
    "  traj_opt_init_kwargs['query_loss_opt'] = query_loss_opt\n",
    "  return rew_optimizer.run(\n",
    "    traj_opt_cls=GDTrajOptimizer,\n",
    "    traj_opt_run_kwargs=gd_traj_opt_run_kwargs,\n",
    "    traj_opt_init_kwargs=traj_opt_init_kwargs,\n",
    "    **rew_opt_kwargs\n",
    "    )"
   ]
  },
  {
   "cell_type": "code",
   "execution_count": null,
   "metadata": {},
   "outputs": [],
   "source": [
    "n_trials = 3"
   ]
  },
  {
   "cell_type": "code",
   "execution_count": null,
   "metadata": {},
   "outputs": [],
   "source": [
    "query_loss_opts = ['max_nov', 'max_imi_pol_uncertainty']"
   ]
  },
  {
   "cell_type": "code",
   "execution_count": null,
   "metadata": {
    "scrolled": true
   },
   "outputs": [],
   "source": [
    "query_loss_evals = []\n",
    "for query_loss_opt in query_loss_opts:\n",
    "  query_loss_evals.append([])\n",
    "  for i in range(n_trials):\n",
    "    print('%s %d' % (query_loss_opt, i))\n",
    "    query_loss_evals[-1].append(eval_query_loss(query_loss_opt))"
   ]
  },
  {
   "cell_type": "code",
   "execution_count": null,
   "metadata": {},
   "outputs": [],
   "source": [
    "query_loss_eval_data = {\n",
    "    'query_loss_opts': query_loss_opts,\n",
    "    'query_loss_evals': query_loss_evals\n",
    "    }"
   ]
  },
  {
   "cell_type": "code",
   "execution_count": null,
   "metadata": {},
   "outputs": [],
   "source": [
    "with open(os.path.join(utils.bandit_data_dir, 'query_loss_eval_data.pkl'), 'wb') as f:\n",
    "  pickle.dump(query_loss_eval_data, f, pickle.HIGHEST_PROTOCOL)"
   ]
  },
  {
   "cell_type": "code",
   "execution_count": null,
   "metadata": {},
   "outputs": [],
   "source": [
    "with open(os.path.join(utils.bandit_data_dir, 'query_loss_eval_data.pkl'), 'rb') as f:\n",
    "  query_loss_eval_data = pickle.load(f)"
   ]
  },
  {
   "cell_type": "code",
   "execution_count": null,
   "metadata": {},
   "outputs": [],
   "source": [
    "globals().update(query_loss_eval_data)"
   ]
  },
  {
   "cell_type": "code",
   "execution_count": null,
   "metadata": {},
   "outputs": [],
   "source": [
    "compute_stoch_eval = lambda: rew_optimizer.run(\n",
    "  traj_opt_cls=StochTrajOptimizer,\n",
    "  traj_opt_run_kwargs=stoch_traj_opt_run_kwargs,\n",
    "  traj_opt_init_kwargs=stoch_traj_opt_init_kwargs,\n",
    "  **rew_opt_kwargs\n",
    "  )"
   ]
  },
  {
   "cell_type": "code",
   "execution_count": null,
   "metadata": {},
   "outputs": [],
   "source": [
    "stoch_evals = [compute_stoch_eval() for _ in range(n_trials)]"
   ]
  },
  {
   "cell_type": "code",
   "execution_count": null,
   "metadata": {},
   "outputs": [],
   "source": [
    "with open(os.path.join(utils.bandit_data_dir, 'stoch_evals.pkl'), 'wb') as f:\n",
    "  pickle.dump(stoch_evals, f, pickle.HIGHEST_PROTOCOL)"
   ]
  },
  {
   "cell_type": "code",
   "execution_count": null,
   "metadata": {},
   "outputs": [],
   "source": [
    "with open(os.path.join(utils.bandit_data_dir, 'stoch_evals.pkl'), 'rb') as f:\n",
    "  stoch_evals = pickle.load(f)"
   ]
  },
  {
   "cell_type": "code",
   "execution_count": null,
   "metadata": {},
   "outputs": [],
   "source": [
    "stoch_perf_eval = list(zip(*stoch_evals))[0]"
   ]
  },
  {
   "cell_type": "code",
   "execution_count": null,
   "metadata": {},
   "outputs": [],
   "source": [
    "stoch_perf_eval[0].keys()"
   ]
  },
  {
   "cell_type": "code",
   "execution_count": null,
   "metadata": {},
   "outputs": [],
   "source": [
    "label_of_key = {\n",
    "    'rew': 'Reward',\n",
    "    'succ': 'Classification Accuracy in Training Env.',\n",
    "    'ens_unc': 'Ensemble Uncertainty',\n",
    "    'xent': 'Cross-Entropy',\n",
    "    'ent': 'Entropy',\n",
    "    'acc': 'Classification Accuracy',\n",
    "    'n_queries': 'Number of Queries',\n",
    "    'trans_succ': 'Classification Accuracy in Test Env.',\n",
    "    'trans_rew': 'Log-Likelihood in Test Env.'\n",
    "    }"
   ]
  },
  {
   "cell_type": "code",
   "execution_count": null,
   "metadata": {},
   "outputs": [],
   "source": [
    "label_of_acq_func = {\n",
    "    'max_nov': 'Max. Novelty',\n",
    "    'max_imi_pol_uncertainty': 'Max. Uncertainty'\n",
    "    }"
   ]
  },
  {
   "cell_type": "code",
   "execution_count": null,
   "metadata": {},
   "outputs": [],
   "source": [
    "plt.rcParams.update({'font.size': 14})"
   ]
  },
  {
   "cell_type": "code",
   "execution_count": null,
   "metadata": {},
   "outputs": [],
   "source": [
    "smooth_win = 3\n",
    "\n",
    "x_key = 'n_queries'\n",
    "y_key = 'trans_succ'\n",
    "\n",
    "plt.xlabel(label_of_key.get(x_key, x_key))\n",
    "plt.ylabel(label_of_key.get(y_key, y_key))\n",
    "\n",
    "for query_loss_opt, evals in zip(query_loss_opts, query_loss_evals):\n",
    "  perf_evals = list(zip(*evals))[0]\n",
    "  utils.plot_perf_evals(\n",
    "      perf_evals, \n",
    "      x_key, \n",
    "      y_key, \n",
    "      label=label_of_acq_func[query_loss_opt], \n",
    "      smooth_win=smooth_win\n",
    "      )\n",
    "  \n",
    "utils.plot_perf_evals(stoch_perf_eval, x_key, y_key, label='Random (Baseline)', smooth_win=smooth_win)\n",
    "\n",
    "if y_key in demo_perf:\n",
    "  plt.axhline(y=np.mean(demo_perf[y_key]), linestyle='--', label='Demonstrations')\n",
    "  \n",
    "plt.axhline(y=opt_rew_eval['perf'][y_key], linestyle=':', label='Optimal')\n",
    " \n",
    "plt.legend(loc='best')\n",
    "\n",
    "plt.savefig(\n",
    "    os.path.join(utils.bandit_data_dir, 'figures', 'bandit-1.pdf'), \n",
    "    dpi=500, \n",
    "    bbox_inches='tight',\n",
    "    transparent=True\n",
    "    )\n",
    "\n",
    "plt.show()"
   ]
  },
  {
   "cell_type": "code",
   "execution_count": null,
   "metadata": {
    "colab": {},
    "colab_type": "code",
    "id": "iMjm8LZBFuvC"
   },
   "outputs": [],
   "source": []
  }
 ],
 "metadata": {
  "colab": {
   "collapsed_sections": [],
   "last_runtime": {
    "build_target": "",
    "kind": "local"
   },
   "name": "pqsynth",
   "provenance": [],
   "version": "0.3.2"
  },
  "kernelspec": {
   "display_name": "Python 3",
   "language": "python",
   "name": "python3"
  },
  "language_info": {
   "codemirror_mode": {
    "name": "ipython",
    "version": 3
   },
   "file_extension": ".py",
   "mimetype": "text/x-python",
   "name": "python",
   "nbconvert_exporter": "python",
   "pygments_lexer": "ipython3",
   "version": "3.7.3"
  }
 },
 "nbformat": 4,
 "nbformat_minor": 1
}
