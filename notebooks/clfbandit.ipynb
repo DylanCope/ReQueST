{
 "cells": [
  {
   "cell_type": "code",
   "execution_count": null,
   "metadata": {},
   "outputs": [],
   "source": [
    "%load_ext autoreload\n",
    "%autoreload 2"
   ]
  },
  {
   "cell_type": "code",
   "execution_count": null,
   "metadata": {
    "colab": {},
    "colab_type": "code",
    "id": "-E2YX9BwFur7",
    "scrolled": true
   },
   "outputs": [],
   "source": [
    "from __future__ import division\n",
    "from collections import defaultdict\n",
    "from copy import deepcopy\n",
    "import pickle\n",
    "import random\n",
    "import uuid\n",
    "import os\n",
    "\n",
    "from scipy.misc import logsumexp\n",
    "import tensorflow as tf\n",
    "import numpy as np\n",
    "\n",
    "from rqst.traj_opt import GDTrajOptimizer, StochTrajOptimizer\n",
    "from rqst.reward_models import RewardModel, BCRewardModel\n",
    "from rqst.reward_opt import InteractiveRewardOptimizer\n",
    "from rqst.dynamics_models import ObsPriorModel\n",
    "from rqst.encoder_models import VAEModel, IdenModel, MNISTVAEModel\n",
    "from rqst import reward_models\n",
    "from rqst import utils\n",
    "from rqst import envs"
   ]
  },
  {
   "cell_type": "code",
   "execution_count": null,
   "metadata": {
    "colab": {},
    "colab_type": "code",
    "id": "ASKqw6QpFur-",
    "scrolled": true
   },
   "outputs": [],
   "source": [
    "from matplotlib import pyplot as plt\n",
    "import matplotlib as mpl\n",
    "\n",
    "%matplotlib inline"
   ]
  },
  {
   "cell_type": "code",
   "execution_count": null,
   "metadata": {},
   "outputs": [],
   "source": [
    "import warnings\n",
    "warnings.filterwarnings('ignore')"
   ]
  },
  {
   "cell_type": "code",
   "execution_count": null,
   "metadata": {
    "colab": {},
    "colab_type": "code",
    "id": "U0Q0o0dUFusG",
    "scrolled": true
   },
   "outputs": [],
   "source": [
    "sess = utils.make_tf_session(gpu_mode=False)"
   ]
  },
  {
   "cell_type": "code",
   "execution_count": null,
   "metadata": {},
   "outputs": [],
   "source": [
    "env = envs.make_clfbandit_env()\n",
    "trans_env = envs.make_clfbandit_trans_env(env)"
   ]
  },
  {
   "cell_type": "code",
   "execution_count": null,
   "metadata": {},
   "outputs": [],
   "source": [
    "env.set_expert_policy(IdenModel(sess, env))\n",
    "trans_env.set_expert_policy(IdenModel(sess, env))"
   ]
  },
  {
   "cell_type": "code",
   "execution_count": null,
   "metadata": {
    "scrolled": true
   },
   "outputs": [],
   "source": [
    "expert_policy = env.expert_policy\n",
    "random_policy = utils.make_random_policy(env)\n",
    "\n",
    "plot_traj = lambda traj, *args, **kwargs: utils.plot_trajs([traj], *args, **kwargs)"
   ]
  },
  {
   "cell_type": "markdown",
   "metadata": {
    "colab_type": "text",
    "id": "M6374BjIFusm"
   },
   "source": []
  },
  {
   "cell_type": "code",
   "execution_count": null,
   "metadata": {
    "colab": {
     "height": 253
    },
    "colab_type": "code",
    "executionInfo": {
     "elapsed": 199,
     "status": "ok",
     "timestamp": 1560272736168,
     "user": {
      "displayName": "Sid Reddy",
      "photoUrl": "",
      "userId": "00109661562254874883"
     },
     "user_tz": -60
    },
    "id": "N7c6jf8nXcDC",
    "outputId": "e750409b-5e7b-4e43-f13f-8406cdcb9585"
   },
   "outputs": [],
   "source": [
    "plot_traj(utils.traj_of_rollout(utils.run_ep(expert_policy, env)), env)"
   ]
  },
  {
   "cell_type": "code",
   "execution_count": null,
   "metadata": {
    "colab": {
     "height": 253
    },
    "colab_type": "code",
    "executionInfo": {
     "elapsed": 133,
     "status": "ok",
     "timestamp": 1560272738523,
     "user": {
      "displayName": "Sid Reddy",
      "photoUrl": "",
      "userId": "00109661562254874883"
     },
     "user_tz": -60
    },
    "id": "nYg3uKMwcOo6",
    "outputId": "3c7f1536-b1cf-471f-ab5a-35ae4b26fe81"
   },
   "outputs": [],
   "source": [
    "plot_traj(utils.traj_of_rollout(utils.run_ep(random_policy, env)), env)"
   ]
  },
  {
   "cell_type": "code",
   "execution_count": null,
   "metadata": {},
   "outputs": [],
   "source": [
    "plot_traj(utils.traj_of_rollout(utils.run_ep(expert_policy, trans_env)), trans_env)"
   ]
  },
  {
   "cell_type": "code",
   "execution_count": null,
   "metadata": {},
   "outputs": [],
   "source": [
    "plot_traj(utils.traj_of_rollout(utils.run_ep(random_policy, trans_env)), trans_env)"
   ]
  },
  {
   "cell_type": "markdown",
   "metadata": {
    "colab_type": "text",
    "id": "x29AwDLUFus5"
   },
   "source": []
  },
  {
   "cell_type": "code",
   "execution_count": null,
   "metadata": {
    "colab": {},
    "colab_type": "code",
    "id": "9VOL3_wmFus6",
    "scrolled": true
   },
   "outputs": [],
   "source": [
    "n_demo_rollouts = 10000"
   ]
  },
  {
   "cell_type": "code",
   "execution_count": null,
   "metadata": {
    "colab": {},
    "colab_type": "code",
    "id": "Gy31c8r3FutA",
    "scrolled": true
   },
   "outputs": [],
   "source": [
    "raw_demo_rollouts = [utils.run_ep(expert_policy, env) for _ in range(n_demo_rollouts)]"
   ]
  },
  {
   "cell_type": "code",
   "execution_count": null,
   "metadata": {},
   "outputs": [],
   "source": [
    "#raw_demo_rollouts += [utils.run_ep(expert_policy, trans_env) for _ in range(n_demo_rollouts)] # DEBUG"
   ]
  },
  {
   "cell_type": "code",
   "execution_count": null,
   "metadata": {
    "colab": {},
    "colab_type": "code",
    "id": "1r58Fl3fFutC",
    "scrolled": true
   },
   "outputs": [],
   "source": [
    "with open(os.path.join(utils.clfbandit_data_dir, 'raw_demo_rollouts.pkl'), 'wb') as f:\n",
    "  pickle.dump(raw_demo_rollouts, f, pickle.HIGHEST_PROTOCOL)"
   ]
  },
  {
   "cell_type": "code",
   "execution_count": null,
   "metadata": {},
   "outputs": [],
   "source": [
    "with open(os.path.join(utils.clfbandit_data_dir, 'raw_demo_rollouts.pkl'), 'rb') as f:\n",
    "  raw_demo_rollouts = pickle.load(f)"
   ]
  },
  {
   "cell_type": "code",
   "execution_count": null,
   "metadata": {
    "colab": {},
    "colab_type": "code",
    "id": "U7iY2vdUOXMh"
   },
   "outputs": [],
   "source": [
    "n_aug_rollouts = 10000"
   ]
  },
  {
   "cell_type": "code",
   "execution_count": null,
   "metadata": {
    "colab": {},
    "colab_type": "code",
    "id": "-2nbnzm9OXMj"
   },
   "outputs": [],
   "source": [
    "raw_aug_rollouts = raw_demo_rollouts + [utils.run_ep(expert_policy, trans_env) for _ in range(n_aug_rollouts)]"
   ]
  },
  {
   "cell_type": "code",
   "execution_count": null,
   "metadata": {
    "colab": {},
    "colab_type": "code",
    "id": "_jrxxMsqOXMm"
   },
   "outputs": [],
   "source": [
    "with open(os.path.join(utils.clfbandit_data_dir, 'raw_aug_rollouts.pkl'), 'wb') as f:\n",
    "  pickle.dump(raw_aug_rollouts, f, pickle.HIGHEST_PROTOCOL)"
   ]
  },
  {
   "cell_type": "code",
   "execution_count": null,
   "metadata": {},
   "outputs": [],
   "source": [
    "with open(os.path.join(utils.clfbandit_data_dir, 'raw_aug_rollouts.pkl'), 'rb') as f:\n",
    "  raw_aug_rollouts = pickle.load(f)"
   ]
  },
  {
   "cell_type": "markdown",
   "metadata": {},
   "source": []
  },
  {
   "cell_type": "code",
   "execution_count": null,
   "metadata": {},
   "outputs": [],
   "source": [
    "rollouts_of_dig = defaultdict(list)\n",
    "for r in raw_aug_rollouts[n_demo_rollouts:]:\n",
    "  rollouts_of_dig[np.argmax(r[0][1])].append(r)\n",
    "rollouts_of_dig = dict(rollouts_of_dig)\n",
    "\n",
    "raw_aug_rollouts = raw_aug_rollouts[:n_demo_rollouts]\n",
    "\n",
    "n_samps_per_trans_dig = 1000\n",
    "for dig in range(5):\n",
    "  raw_aug_rollouts += random.sample(rollouts_of_dig[dig], n_samps_per_trans_dig)"
   ]
  },
  {
   "cell_type": "code",
   "execution_count": null,
   "metadata": {},
   "outputs": [],
   "source": [
    "raw_aug_obses = np.array([x[0] for rollout in raw_aug_rollouts for x in rollout])\n",
    "raw_aug_actions = np.array([x[1] for rollout in raw_aug_rollouts for x in rollout])\n",
    "raw_aug_obs_data = utils.split_rollouts({\n",
    "    'obses': raw_aug_obses, \n",
    "    'actions': raw_aug_actions\n",
    "    })\n",
    "raw_aug_obses.shape"
   ]
  },
  {
   "cell_type": "code",
   "execution_count": null,
   "metadata": {
    "scrolled": false
   },
   "outputs": [],
   "source": [
    "encoder = MNISTVAEModel(\n",
    "    sess,\n",
    "    env,\n",
    "    kl_tolerance=utils.inf,\n",
    "    #scope=str(uuid.uuid4()),\n",
    "    scope_file=os.path.join(utils.clfbandit_data_dir, 'enc_scope.pkl'),\n",
    "    tf_file=os.path.join(utils.clfbandit_data_dir, 'enc.tf')\n",
    "    )"
   ]
  },
  {
   "cell_type": "code",
   "execution_count": null,
   "metadata": {
    "scrolled": true
   },
   "outputs": [],
   "source": [
    "encoder.train(\n",
    "    raw_aug_obs_data,\n",
    "    iterations=100000,\n",
    "    ftol=1e-6,\n",
    "    learning_rate=1e-3,\n",
    "    batch_size=32,\n",
    "    val_update_freq=1000,\n",
    "    verbose=True\n",
    "    )"
   ]
  },
  {
   "cell_type": "code",
   "execution_count": null,
   "metadata": {},
   "outputs": [],
   "source": [
    "encoder.save()"
   ]
  },
  {
   "cell_type": "code",
   "execution_count": null,
   "metadata": {
    "scrolled": true
   },
   "outputs": [],
   "source": [
    "encoder.load()"
   ]
  },
  {
   "cell_type": "code",
   "execution_count": null,
   "metadata": {},
   "outputs": [],
   "source": [
    "encoder = IdenModel(sess, env)"
   ]
  },
  {
   "cell_type": "code",
   "execution_count": null,
   "metadata": {},
   "outputs": [],
   "source": [
    "obs = raw_aug_rollouts[-6][0][0]\n",
    "plt.imshow(obs[:, :, 0], cmap=mpl.cm.binary)\n",
    "plt.show()"
   ]
  },
  {
   "cell_type": "code",
   "execution_count": null,
   "metadata": {},
   "outputs": [],
   "source": [
    "plt.hist(obs.ravel())\n",
    "plt.show()"
   ]
  },
  {
   "cell_type": "code",
   "execution_count": null,
   "metadata": {},
   "outputs": [],
   "source": [
    "latent = encoder.encode_frame(obs)\n",
    "latent"
   ]
  },
  {
   "cell_type": "code",
   "execution_count": null,
   "metadata": {},
   "outputs": [],
   "source": [
    "latent *= 0."
   ]
  },
  {
   "cell_type": "code",
   "execution_count": null,
   "metadata": {},
   "outputs": [],
   "source": [
    "std = np.exp(-.1)#1\n",
    "latent = np.random.normal(0, std, env.n_z_dim)"
   ]
  },
  {
   "cell_type": "code",
   "execution_count": null,
   "metadata": {},
   "outputs": [],
   "source": [
    "recon = encoder.decode_latent(latent)\n",
    "plt.imshow(recon[:, :, 0], cmap=mpl.cm.binary)\n",
    "plt.show()"
   ]
  },
  {
   "cell_type": "code",
   "execution_count": null,
   "metadata": {},
   "outputs": [],
   "source": [
    "plt.hist(recon.ravel())\n",
    "plt.show()"
   ]
  },
  {
   "cell_type": "code",
   "execution_count": null,
   "metadata": {},
   "outputs": [],
   "source": [
    "env.set_expert_policy(encoder)"
   ]
  },
  {
   "cell_type": "code",
   "execution_count": null,
   "metadata": {},
   "outputs": [],
   "source": [
    "trans_env.set_expert_policy(encoder)"
   ]
  },
  {
   "cell_type": "markdown",
   "metadata": {},
   "source": []
  },
  {
   "cell_type": "code",
   "execution_count": null,
   "metadata": {},
   "outputs": [],
   "source": [
    "demo_rollouts = utils.map_frames(raw_demo_rollouts, encoder.encode_batch_frames, batch=True)"
   ]
  },
  {
   "cell_type": "code",
   "execution_count": null,
   "metadata": {},
   "outputs": [],
   "source": [
    "aug_rollouts = utils.map_frames(raw_aug_rollouts, encoder.encode_batch_frames, batch=True)"
   ]
  },
  {
   "cell_type": "code",
   "execution_count": null,
   "metadata": {},
   "outputs": [],
   "source": [
    "with open(os.path.join(utils.clfbandit_data_dir, 'demo_rollouts.pkl'), 'wb') as f:\n",
    "  pickle.dump(demo_rollouts, f, pickle.HIGHEST_PROTOCOL)"
   ]
  },
  {
   "cell_type": "code",
   "execution_count": null,
   "metadata": {},
   "outputs": [],
   "source": [
    "with open(os.path.join(utils.clfbandit_data_dir, 'aug_rollouts.pkl'), 'wb') as f:\n",
    "  pickle.dump(aug_rollouts, f, pickle.HIGHEST_PROTOCOL)"
   ]
  },
  {
   "cell_type": "markdown",
   "metadata": {},
   "source": []
  },
  {
   "cell_type": "code",
   "execution_count": null,
   "metadata": {},
   "outputs": [],
   "source": [
    "labels = [np.argmax(x[0][1]) for x in demo_rollouts]\n",
    "xs = [x[0][0][0] for x in demo_rollouts]\n",
    "ys = [x[0][0][1] for x in demo_rollouts]"
   ]
  },
  {
   "cell_type": "code",
   "execution_count": null,
   "metadata": {},
   "outputs": [],
   "source": [
    "plt.scatter(xs, ys, c=labels, alpha=0.5)\n",
    "plt.show()"
   ]
  },
  {
   "cell_type": "markdown",
   "metadata": {
    "colab_type": "text",
    "id": "iM2KP0f4JvKy"
   },
   "source": []
  },
  {
   "cell_type": "code",
   "execution_count": null,
   "metadata": {
    "colab": {},
    "colab_type": "code",
    "id": "xl73qZW8H1N0"
   },
   "outputs": [],
   "source": [
    "with open(os.path.join(utils.clfbandit_data_dir, 'demo_rollouts.pkl'), 'rb') as f:\n",
    "  demo_rollouts = pickle.load(f)\n",
    "\n",
    "with open(os.path.join(utils.clfbandit_data_dir, 'aug_rollouts.pkl'), 'rb') as f:\n",
    "  aug_rollouts = pickle.load(f)"
   ]
  },
  {
   "cell_type": "code",
   "execution_count": null,
   "metadata": {
    "colab": {
     "height": 33
    },
    "colab_type": "code",
    "executionInfo": {
     "elapsed": 1355,
     "status": "ok",
     "timestamp": 1560341364392,
     "user": {
      "displayName": "Sid Reddy",
      "photoUrl": "",
      "userId": "00109661562254874883"
     },
     "user_tz": -60
    },
    "id": "8H5hj2cN57_9",
    "outputId": "81fb3e2d-fdb9-4223-fc23-b5d84934f175"
   },
   "outputs": [],
   "source": [
    "demo_data = utils.split_rollouts(utils.vectorize_rollouts(demo_rollouts, env.max_ep_len))\n",
    "aug_data = utils.split_rollouts(utils.vectorize_rollouts(aug_rollouts, env.max_ep_len))\n",
    "demo_data['obses'].shape, aug_data['obses'].shape"
   ]
  },
  {
   "cell_type": "markdown",
   "metadata": {},
   "source": []
  },
  {
   "cell_type": "code",
   "execution_count": null,
   "metadata": {},
   "outputs": [],
   "source": [
    "demo_perf = utils.compute_perf_metrics(demo_rollouts, env)"
   ]
  },
  {
   "cell_type": "code",
   "execution_count": null,
   "metadata": {},
   "outputs": [],
   "source": [
    "demo_perf"
   ]
  },
  {
   "cell_type": "markdown",
   "metadata": {
    "colab_type": "text",
    "id": "7-miye4XtGLl"
   },
   "source": []
  },
  {
   "cell_type": "code",
   "execution_count": null,
   "metadata": {
    "colab": {},
    "colab_type": "code",
    "id": "7--osRGds7WN"
   },
   "outputs": [],
   "source": [
    "dynamics_model = ObsPriorModel(sess, env, encoder=encoder)"
   ]
  },
  {
   "cell_type": "markdown",
   "metadata": {
    "colab_type": "text",
    "id": "LkvuD7UttA_X"
   },
   "source": []
  },
  {
   "cell_type": "code",
   "execution_count": null,
   "metadata": {},
   "outputs": [],
   "source": [
    "sketch_data_for_reward_model = None\n",
    "sketch_rollouts_for_reward_model = None\n",
    "\n",
    "pref_data_for_reward_model = None\n",
    "pref_logs_for_reward_model = None"
   ]
  },
  {
   "cell_type": "markdown",
   "metadata": {},
   "source": []
  },
  {
   "cell_type": "code",
   "execution_count": null,
   "metadata": {},
   "outputs": [],
   "source": [
    "demo_rollouts_for_reward_model = demo_rollouts"
   ]
  },
  {
   "cell_type": "code",
   "execution_count": null,
   "metadata": {},
   "outputs": [],
   "source": [
    "demo_data_for_reward_model = utils.split_rollouts(utils.vectorize_rollouts(demo_rollouts_for_reward_model, env.max_ep_len))"
   ]
  },
  {
   "cell_type": "code",
   "execution_count": null,
   "metadata": {},
   "outputs": [],
   "source": [
    "reward_model = BCRewardModel(\n",
    "    sess,\n",
    "    env,\n",
    "    n_rew_nets_in_ensemble=4,\n",
    "    n_layers=1,\n",
    "    layer_size=128,\n",
    "    #scope=str(uuid.uuid4()),\n",
    "    scope_file=os.path.join(utils.clfbandit_data_dir, 'bc_rew_scope.pkl'),\n",
    "    tf_file=os.path.join(utils.clfbandit_data_dir, 'bc_rew.tf'),\n",
    "    rew_func_input='sa',\n",
    "    use_discrete_actions=True\n",
    "    )"
   ]
  },
  {
   "cell_type": "code",
   "execution_count": null,
   "metadata": {
    "colab": {
     "height": 802
    },
    "colab_type": "code",
    "executionInfo": {
     "elapsed": 14585,
     "status": "error",
     "timestamp": 1560277061008,
     "user": {
      "displayName": "Sid Reddy",
      "photoUrl": "",
      "userId": "00109661562254874883"
     },
     "user_tz": -60
    },
    "id": "6ZPNlaTjW2fU",
    "outputId": "26618c1a-b039-4529-e7fe-756463123f5f",
    "scrolled": true
   },
   "outputs": [],
   "source": [
    "reward_model.train(\n",
    "    demo_data=demo_data_for_reward_model,\n",
    "    sketch_data=sketch_data_for_reward_model,\n",
    "    pref_data=pref_data_for_reward_model,\n",
    "    demo_coeff=1.,\n",
    "    sketch_coeff=1.,\n",
    "    iterations=100000,\n",
    "    ftol=1e-4,\n",
    "    batch_size=32,\n",
    "    learning_rate=1e-3,\n",
    "    val_update_freq=100,\n",
    "    verbose=True\n",
    "    )"
   ]
  },
  {
   "cell_type": "code",
   "execution_count": null,
   "metadata": {
    "colab": {},
    "colab_type": "code",
    "id": "Cz_BYCPIJr5c"
   },
   "outputs": [],
   "source": [
    "reward_model.save()"
   ]
  },
  {
   "cell_type": "code",
   "execution_count": null,
   "metadata": {
    "colab": {},
    "colab_type": "code",
    "id": "y9jvFBbAJr2W"
   },
   "outputs": [],
   "source": [
    "reward_model.load()"
   ]
  },
  {
   "cell_type": "code",
   "execution_count": null,
   "metadata": {},
   "outputs": [],
   "source": [
    "reward_model.demo_data = demo_data_for_reward_model\n",
    "reward_model.sketch_data = sketch_data_for_reward_model"
   ]
  },
  {
   "cell_type": "markdown",
   "metadata": {},
   "source": []
  },
  {
   "cell_type": "code",
   "execution_count": null,
   "metadata": {},
   "outputs": [],
   "source": [
    "reward_model.viz_learned_rew()"
   ]
  },
  {
   "cell_type": "markdown",
   "metadata": {
    "colab_type": "text",
    "id": "0D9uLwsltKYc"
   },
   "source": []
  },
  {
   "cell_type": "code",
   "execution_count": null,
   "metadata": {},
   "outputs": [],
   "source": [
    "env.default_init_obs = demo_rollouts[0][0][0]"
   ]
  },
  {
   "cell_type": "code",
   "execution_count": null,
   "metadata": {},
   "outputs": [],
   "source": [
    "plt.imshow(encoder.decode_latent(env.default_init_obs)[:, :, 0], cmap=mpl.cm.binary)\n",
    "plt.show()"
   ]
  },
  {
   "cell_type": "code",
   "execution_count": null,
   "metadata": {},
   "outputs": [],
   "source": [
    "act_seq = np.zeros(env.n_act_dim)\n",
    "act_seq[4] = 1\n",
    "act_seq[9] = 1\n",
    "act_seq = act_seq[np.newaxis, np.newaxis, :] * utils.inf"
   ]
  },
  {
   "cell_type": "code",
   "execution_count": null,
   "metadata": {
    "colab": {},
    "colab_type": "code",
    "id": "dvfa46LUFuu-",
    "scrolled": true
   },
   "outputs": [],
   "source": [
    "traj_optimizer = GDTrajOptimizer(\n",
    "    sess,\n",
    "    env,\n",
    "    reward_model,\n",
    "    dynamics_model,         \n",
    "    traj_len=2,\n",
    "    n_trajs=1,\n",
    "    prior_coeff=1e-1,\n",
    "    diversity_coeff=0.,\n",
    "    #query_loss_opt='max_nov',\n",
    "    query_loss_opt='max_imi_pol_uncertainty',\n",
    "    #query_loss_opt='pref_uncertainty',\n",
    "    #query_loss_opt='max_rew',\n",
    "    opt_init_obs=True,\n",
    "    opt_act_seq=True,\n",
    "    join_trajs_at_init_state=True,\n",
    "    learning_rate=1e-2,\n",
    "    query_type='demo',\n",
    "    shoot_steps=None\n",
    "    )"
   ]
  },
  {
   "cell_type": "code",
   "execution_count": null,
   "metadata": {
    "colab": {
     "height": 1265
    },
    "colab_type": "code",
    "executionInfo": {
     "elapsed": 22033,
     "status": "ok",
     "timestamp": 1560277856337,
     "user": {
      "displayName": "Sid Reddy",
      "photoUrl": "",
      "userId": "00109661562254874883"
     },
     "user_tz": -60
    },
    "id": "sBwDoTQ1a0fB",
    "outputId": "a94452a0-6388-4d5a-ee9c-6d9de9ffb2a7",
    "scrolled": true
   },
   "outputs": [],
   "source": [
    "data = traj_optimizer.run(\n",
    "    #init_obs=env.default_init_obs,\n",
    "    #act_seq=act_seq,\n",
    "    init_obs=None,\n",
    "    iterations=5000,\n",
    "    ftol=1e-4,\n",
    "    verbose=True,\n",
    "    warm_start=False\n",
    "    )\n",
    "trajs = data['traj']\n",
    "act_seqs = data['act_seq']"
   ]
  },
  {
   "cell_type": "code",
   "execution_count": null,
   "metadata": {},
   "outputs": [],
   "source": [
    "act_seqs = np.array(act_seqs)[:, 0, :]\n",
    "act_seqs -= logsumexp(act_seqs, axis=1, keepdims=True)\n",
    "act_seqs = np.exp(act_seqs)"
   ]
  },
  {
   "cell_type": "code",
   "execution_count": null,
   "metadata": {},
   "outputs": [],
   "source": [
    "sorted(list(range(act_seqs.shape[1])), key=lambda i: np.abs(act_seqs[0, i] - act_seqs[1, i]))"
   ]
  },
  {
   "cell_type": "code",
   "execution_count": null,
   "metadata": {},
   "outputs": [],
   "source": [
    "act_seqs, np.argmax(act_seqs, axis=1)"
   ]
  },
  {
   "cell_type": "code",
   "execution_count": null,
   "metadata": {},
   "outputs": [],
   "source": [
    "votes = reward_model.vote_on_actions(trajs[0])[0, :, :]\n",
    "agg_votes = np.mean(votes, axis=0)\n",
    "agg_votes, np.argmax(agg_votes)"
   ]
  },
  {
   "cell_type": "code",
   "execution_count": null,
   "metadata": {},
   "outputs": [],
   "source": [
    "np.argmax(votes, axis=1), np.mean(np.var(votes, axis=0)), -(votes * np.log(votes)).sum(axis=1).mean(), utils.np_ens_disag(votes[np.newaxis, :, :])[0]"
   ]
  },
  {
   "cell_type": "code",
   "execution_count": null,
   "metadata": {
    "scrolled": false
   },
   "outputs": [],
   "source": [
    "utils.plot_trajs(trajs, env, encoder)"
   ]
  },
  {
   "cell_type": "code",
   "execution_count": null,
   "metadata": {},
   "outputs": [],
   "source": [
    "rollout = [(trajs[0][0], None, None, None, None, None)]\n",
    "demo_rollouts_for_reward_model.append(rollout)"
   ]
  },
  {
   "cell_type": "markdown",
   "metadata": {},
   "source": []
  },
  {
   "cell_type": "code",
   "execution_count": null,
   "metadata": {
    "colab": {
     "height": 183
    },
    "colab_type": "code",
    "executionInfo": {
     "elapsed": 406,
     "status": "ok",
     "timestamp": 1560278067673,
     "user": {
      "displayName": "Sid Reddy",
      "photoUrl": "",
      "userId": "00109661562254874883"
     },
     "user_tz": -60
    },
    "id": "FYNFUWC5pd1q",
    "outputId": "8e7b83c4-d585-4ac7-ec0d-122475a6736b"
   },
   "outputs": [],
   "source": [
    "rew_eval = reward_models.evaluate_reward_model(\n",
    "    sess,\n",
    "    env,\n",
    "    trans_env,\n",
    "    reward_model, \n",
    "    dynamics_model, \n",
    "    offpol_eval_rollouts=aug_rollouts,\n",
    "    n_eval_rollouts=100\n",
    "    )"
   ]
  },
  {
   "cell_type": "code",
   "execution_count": null,
   "metadata": {},
   "outputs": [],
   "source": [
    "rew_eval['perf']"
   ]
  },
  {
   "cell_type": "code",
   "execution_count": null,
   "metadata": {
    "scrolled": true
   },
   "outputs": [],
   "source": [
    "utils.viz_rew_eval(rew_eval, env, encoder)"
   ]
  },
  {
   "cell_type": "code",
   "execution_count": null,
   "metadata": {},
   "outputs": [],
   "source": [
    "with open(os.path.join(utils.clfbandit_data_dir, 'opt_rew_eval.pkl'), 'wb') as f:\n",
    "  pickle.dump(rew_eval, f, pickle.HIGHEST_PROTOCOL)"
   ]
  },
  {
   "cell_type": "code",
   "execution_count": null,
   "metadata": {},
   "outputs": [],
   "source": [
    "with open(os.path.join(utils.clfbandit_data_dir, 'opt_rew_eval.pkl'), 'rb') as f:\n",
    "  opt_rew_eval = pickle.load(f)"
   ]
  },
  {
   "cell_type": "markdown",
   "metadata": {
    "colab_type": "text",
    "id": "kK4aoy9zlFXV"
   },
   "source": []
  },
  {
   "cell_type": "code",
   "execution_count": null,
   "metadata": {
    "colab": {},
    "colab_type": "code",
    "id": "jWHsGDV9krG_"
   },
   "outputs": [],
   "source": [
    "traj_optimizer = StochTrajOptimizer(\n",
    "    sess,\n",
    "    env,\n",
    "    reward_model,\n",
    "    dynamics_model,\n",
    "    traj_len=2,\n",
    "    rollout_len=1,\n",
    "    #query_loss_opt='max_nov',\n",
    "    query_loss_opt='max_imi_pol_uncertainty',\n",
    "    #query_loss_opt='unif',\n",
    "    #query_loss_opt='pref_uncertainty',\n",
    "    #query_loss_opt='max_rew',\n",
    "    use_rand_policy=False,\n",
    "    query_type='demo'\n",
    "    )"
   ]
  },
  {
   "cell_type": "code",
   "execution_count": null,
   "metadata": {
    "colab": {
     "height": 66920
    },
    "colab_type": "code",
    "executionInfo": {
     "elapsed": 2958,
     "status": "ok",
     "timestamp": 1560278591962,
     "user": {
      "displayName": "Sid Reddy",
      "photoUrl": "",
      "userId": "00109661562254874883"
     },
     "user_tz": -60
    },
    "id": "Nil04K74krC1",
    "outputId": "a932c7d8-7527-4ee4-f416-9b06b0e9a082",
    "scrolled": false
   },
   "outputs": [],
   "source": [
    "data = traj_optimizer.run(\n",
    "    #act_seq=act_seq,\n",
    "    n_trajs=1,\n",
    "    n_samples=10,\n",
    "    init_obs=None,\n",
    "    verbose=True\n",
    "    )\n",
    "trajs = data['traj']\n",
    "act_seqs = data['act_seq']"
   ]
  },
  {
   "cell_type": "code",
   "execution_count": null,
   "metadata": {},
   "outputs": [],
   "source": [
    "act_seqs = np.array(act_seqs)[:, 0, :]\n",
    "act_seqs -= logsumexp(act_seqs, axis=1, keepdims=True)\n",
    "act_seqs = np.exp(act_seqs)"
   ]
  },
  {
   "cell_type": "code",
   "execution_count": null,
   "metadata": {},
   "outputs": [],
   "source": [
    "sorted(list(range(act_seqs.shape[1])), key=lambda i: np.abs(act_seqs[0, i] - act_seqs[1, i]))"
   ]
  },
  {
   "cell_type": "code",
   "execution_count": null,
   "metadata": {},
   "outputs": [],
   "source": [
    "act_seqs, np.argmax(act_seqs, axis=1)"
   ]
  },
  {
   "cell_type": "code",
   "execution_count": null,
   "metadata": {},
   "outputs": [],
   "source": [
    "votes = reward_model.vote_on_actions(trajs[0])[0, :, :]\n",
    "agg_votes = np.mean(votes, axis=0)\n",
    "agg_votes, np.argmax(agg_votes)"
   ]
  },
  {
   "cell_type": "code",
   "execution_count": null,
   "metadata": {},
   "outputs": [],
   "source": [
    "np.argmax(votes, axis=1), np.mean(np.var(votes, axis=0)), -(votes * np.log(votes)).sum(axis=1).mean(), utils.np_ens_disag(votes[np.newaxis, :, :])[0]"
   ]
  },
  {
   "cell_type": "code",
   "execution_count": null,
   "metadata": {},
   "outputs": [],
   "source": [
    "utils.plot_trajs(trajs, env, encoder)"
   ]
  },
  {
   "cell_type": "markdown",
   "metadata": {
    "colab_type": "text",
    "id": "PQROLo_2szLW"
   },
   "source": []
  },
  {
   "cell_type": "code",
   "execution_count": null,
   "metadata": {},
   "outputs": [],
   "source": [
    "offpol_eval_rollouts = random.sample(aug_rollouts, 1000)"
   ]
  },
  {
   "cell_type": "code",
   "execution_count": null,
   "metadata": {},
   "outputs": [],
   "source": [
    "demo_rollouts_for_reward_model = demo_rollouts[:10]"
   ]
  },
  {
   "cell_type": "code",
   "execution_count": null,
   "metadata": {},
   "outputs": [],
   "source": [
    "reward_model = BCRewardModel(\n",
    "    sess,\n",
    "    env,\n",
    "    n_rew_nets_in_ensemble=4,\n",
    "    n_layers=1,\n",
    "    layer_size=128,\n",
    "    scope=str(uuid.uuid4()),\n",
    "    scope_file=os.path.join(utils.clfbandit_data_dir, 'bc_rew_scope.pkl'),\n",
    "    tf_file=os.path.join(utils.clfbandit_data_dir, 'bc_rew.tf'),\n",
    "    rew_func_input='sa',\n",
    "    use_discrete_actions=True\n",
    "    )"
   ]
  },
  {
   "cell_type": "code",
   "execution_count": null,
   "metadata": {},
   "outputs": [],
   "source": [
    "dynamics_model = ObsPriorModel(sess, env, encoder=encoder)"
   ]
  },
  {
   "cell_type": "code",
   "execution_count": null,
   "metadata": {},
   "outputs": [],
   "source": [
    "rew_optimizer = InteractiveRewardOptimizer(\n",
    "    sess,\n",
    "    env, \n",
    "    trans_env,\n",
    "    reward_model, \n",
    "    dynamics_model\n",
    "    )"
   ]
  },
  {
   "cell_type": "code",
   "execution_count": null,
   "metadata": {
    "colab": {},
    "colab_type": "code",
    "id": "5tEE0s96sXih"
   },
   "outputs": [],
   "source": [
    "reward_train_kwargs = {\n",
    "    'demo_coeff': 1.,\n",
    "    'sketch_coeff': 1.,\n",
    "    'iterations': 5000,\n",
    "    'ftol': 1e-4,\n",
    "    'batch_size': 32,\n",
    "    'learning_rate': 1e-2,\n",
    "    'val_update_freq': 100,\n",
    "    'verbose': False\n",
    "    }\n",
    "\n",
    "dynamics_train_kwargs = {}\n",
    "\n",
    "imitation_kwargs = {}\n",
    "\n",
    "eval_kwargs = {\n",
    "    'n_eval_rollouts': 100,\n",
    "    'offpol_eval_rollouts': offpol_eval_rollouts\n",
    "    }"
   ]
  },
  {
   "cell_type": "code",
   "execution_count": null,
   "metadata": {},
   "outputs": [],
   "source": [
    "gd_traj_opt_init_kwargs = {        \n",
    "    'traj_len': 2,\n",
    "    'n_trajs': 1,\n",
    "    'prior_coeff': 1e-1,\n",
    "    'diversity_coeff': 0.,\n",
    "    'query_loss_opt': 'unif',\n",
    "    'opt_init_obs': True,\n",
    "    'opt_act_seq': True,\n",
    "    'learning_rate': 1e-2,\n",
    "    'join_trajs_at_init_state': True,\n",
    "    'shoot_steps': None\n",
    "    }\n",
    "\n",
    "gd_traj_opt_run_kwargs = {\n",
    "    'init_obs': None,\n",
    "    'iterations': 5000,\n",
    "    'ftol': 1e-4,\n",
    "    'verbose': False,\n",
    "    'warm_start': False\n",
    "    }"
   ]
  },
  {
   "cell_type": "code",
   "execution_count": null,
   "metadata": {},
   "outputs": [],
   "source": [
    "query_loss_opts = ['max_imi_pol_uncertainty', 'max_nov']\n",
    "prior_coeffs = [1e-1, 1e-2]\n",
    "\n",
    "traj_opt_init_kwargs = []\n",
    "for query_loss_opt, prior_coeff in zip(query_loss_opts, prior_coeffs):\n",
    "  kwargs = deepcopy(gd_traj_opt_init_kwargs)\n",
    "  kwargs['query_loss_opt'] = query_loss_opt\n",
    "  kwargs['prior_coeff'] = prior_coeff\n",
    "  traj_opt_init_kwargs.append(kwargs)\n",
    "gd_traj_opt_init_kwargs = traj_opt_init_kwargs\n",
    "gd_traj_opt_run_kwargs = [gd_traj_opt_run_kwargs] * len(gd_traj_opt_init_kwargs)"
   ]
  },
  {
   "cell_type": "code",
   "execution_count": null,
   "metadata": {},
   "outputs": [],
   "source": [
    "stoch_traj_opt_init_kwargs = {        \n",
    "    'traj_len': 2,\n",
    "    'rollout_len': 1,\n",
    "    'query_loss_opt': 'unif',\n",
    "    'use_rand_policy': False\n",
    "    }\n",
    "\n",
    "stoch_traj_opt_run_kwargs = {\n",
    "    'n_trajs': 10,\n",
    "    'n_samples': 10,\n",
    "    'init_obs': None,\n",
    "    'verbose': False\n",
    "    }"
   ]
  },
  {
   "cell_type": "code",
   "execution_count": null,
   "metadata": {},
   "outputs": [],
   "source": [
    "rew_opt_kwargs = {\n",
    "    'demo_rollouts': demo_rollouts_for_reward_model,\n",
    "    'sketch_rollouts': sketch_rollouts_for_reward_model,\n",
    "    'pref_logs': pref_logs_for_reward_model,\n",
    "    'rollouts_for_dyn': [],#aug_rollouts,\n",
    "    'reward_train_kwargs': reward_train_kwargs,\n",
    "    'dynamics_train_kwargs': dynamics_train_kwargs,\n",
    "    'imitation_kwargs': imitation_kwargs,\n",
    "    'eval_kwargs': eval_kwargs,\n",
    "    'init_train_dyn': False,\n",
    "    'init_train_rew': True,\n",
    "    'n_imitation_rollouts_per_dyn_update': 1,\n",
    "    'n_queries': 2000,\n",
    "    'reward_update_freq': 5,\n",
    "    'reward_eval_freq': 5,\n",
    "    'dyn_update_freq': None,\n",
    "    'verbose': False,\n",
    "    'warm_start_rew': False,\n",
    "    'query_type': 'demo'\n",
    "    }"
   ]
  },
  {
   "cell_type": "code",
   "execution_count": null,
   "metadata": {
    "colab": {},
    "colab_type": "code",
    "id": "V4IKPMHjno8Q",
    "scrolled": true
   },
   "outputs": [],
   "source": [
    "rew_perf_evals, query_data = rew_optimizer.run(\n",
    "    traj_opt_cls=GDTrajOptimizer,\n",
    "    traj_opt_run_kwargs=gd_traj_opt_run_kwargs,\n",
    "    traj_opt_init_kwargs=gd_traj_opt_init_kwargs,\n",
    "    **rew_opt_kwargs\n",
    "    )"
   ]
  },
  {
   "cell_type": "code",
   "execution_count": null,
   "metadata": {},
   "outputs": [],
   "source": [
    "rew_perf_evals = rew_optimizer.rew_perf_evals\n",
    "query_data = rew_optimizer.query_data"
   ]
  },
  {
   "cell_type": "code",
   "execution_count": null,
   "metadata": {},
   "outputs": [],
   "source": [
    "plt.plot(rew_perf_evals['n_queries'], rew_perf_evals['trans_succ'])\n",
    "plt.show()"
   ]
  },
  {
   "cell_type": "code",
   "execution_count": null,
   "metadata": {},
   "outputs": [],
   "source": [
    "utils.viz_query_data(query_data, env, encoder=encoder)"
   ]
  },
  {
   "cell_type": "code",
   "execution_count": null,
   "metadata": {},
   "outputs": [],
   "source": [
    "with open(os.path.join(utils.clfbandit_data_dir, 'query_data.pkl'), 'wb') as f:\n",
    "  pickle.dump(query_data, f, pickle.HIGHEST_PROTOCOL)"
   ]
  },
  {
   "cell_type": "code",
   "execution_count": null,
   "metadata": {},
   "outputs": [],
   "source": [
    "with open(os.path.join(utils.clfbandit_data_dir, 'query_data.pkl'), 'rb') as f:\n",
    "  query_data = pickle.load(f)"
   ]
  },
  {
   "cell_type": "markdown",
   "metadata": {},
   "source": []
  },
  {
   "cell_type": "code",
   "execution_count": null,
   "metadata": {},
   "outputs": [],
   "source": [
    "def make_eval_func(conf_key):\n",
    "  def eval_func(conf_val):\n",
    "    if conf_key == 'prior_coeff':\n",
    "      traj_opt_init_kwargs = deepcopy(gd_traj_opt_init_kwargs)\n",
    "      for i in range(len(traj_opt_init_kwargs)):\n",
    "        traj_opt_init_kwargs[i][conf_key] = conf_val[i]\n",
    "    elif conf_key == 'query_loss_opt':\n",
    "      traj_opt_init_kwargs = [kwargs for kwargs in gd_traj_opt_init_kwargs if kwargs['query_loss_opt'] != conf_val]\n",
    "    return rew_optimizer.run(\n",
    "      traj_opt_cls=GDTrajOptimizer,\n",
    "      traj_opt_run_kwargs=gd_traj_opt_run_kwargs,\n",
    "      traj_opt_init_kwargs=traj_opt_init_kwargs,\n",
    "      **rew_opt_kwargs\n",
    "      )\n",
    "  return eval_func\n",
    "\n",
    "eval_prior_coeff = make_eval_func('prior_coeff')\n",
    "eval_query_loss = make_eval_func('query_loss_opt')"
   ]
  },
  {
   "cell_type": "code",
   "execution_count": null,
   "metadata": {},
   "outputs": [],
   "source": [
    "n_trials = 3"
   ]
  },
  {
   "cell_type": "code",
   "execution_count": null,
   "metadata": {},
   "outputs": [],
   "source": [
    "prior_coeffs = list(zip([0, 1e-2, 1e-1, 1], [0, 1e-3, 1e-2, 1e-1]))\n",
    "prior_coeffs"
   ]
  },
  {
   "cell_type": "code",
   "execution_count": null,
   "metadata": {
    "scrolled": true
   },
   "outputs": [],
   "source": [
    "prior_coeff_evals = []\n",
    "for prior_coeff in prior_coeffs:\n",
    "  prior_coeff_evals.append([])\n",
    "  for i in range(n_trials):\n",
    "    print('%s %d' % (str(prior_coeff), i))\n",
    "    prior_coeff_evals[-1].append(eval_prior_coeff(prior_coeff))"
   ]
  },
  {
   "cell_type": "code",
   "execution_count": null,
   "metadata": {},
   "outputs": [],
   "source": [
    "prior_coeff_eval_data = {\n",
    "    'prior_coeffs': prior_coeffs,\n",
    "    'prior_coeff_evals': prior_coeff_evals\n",
    "    }"
   ]
  },
  {
   "cell_type": "code",
   "execution_count": null,
   "metadata": {},
   "outputs": [],
   "source": [
    "with open(os.path.join(utils.clfbandit_data_dir, 'prior_coeff_eval_data.pkl'), 'wb') as f:\n",
    "  pickle.dump(prior_coeff_eval_data, f, pickle.HIGHEST_PROTOCOL)"
   ]
  },
  {
   "cell_type": "code",
   "execution_count": null,
   "metadata": {},
   "outputs": [],
   "source": [
    "with open(os.path.join(utils.clfbandit_data_dir, 'prior_coeff_eval_data.pkl'), 'rb') as f:\n",
    "  prior_coeff_eval_data = pickle.load(f)"
   ]
  },
  {
   "cell_type": "code",
   "execution_count": null,
   "metadata": {},
   "outputs": [],
   "source": [
    "globals().update(prior_coeff_eval_data)"
   ]
  },
  {
   "cell_type": "code",
   "execution_count": null,
   "metadata": {},
   "outputs": [],
   "source": [
    "query_loss_opts = ['max_imi_pol_uncertainty', 'max_nov']"
   ]
  },
  {
   "cell_type": "code",
   "execution_count": null,
   "metadata": {},
   "outputs": [],
   "source": [
    "query_loss_evals = []\n",
    "for query_loss_opt in query_loss_opts:\n",
    "  query_loss_evals.append([])\n",
    "  for i in range(n_trials):\n",
    "    print('%s %d' % (query_loss_opt, i))\n",
    "    query_loss_evals[-1].append(eval_query_loss(query_loss_opt))"
   ]
  },
  {
   "cell_type": "code",
   "execution_count": null,
   "metadata": {},
   "outputs": [],
   "source": [
    "query_loss_eval_data = {\n",
    "    'query_loss_opts': query_loss_opts,\n",
    "    'query_loss_evals': query_loss_evals\n",
    "    }"
   ]
  },
  {
   "cell_type": "code",
   "execution_count": null,
   "metadata": {},
   "outputs": [],
   "source": [
    "with open(os.path.join(local_bandit_data_dir, 'query_loss_eval_data.pkl'), 'wb') as f:\n",
    "  pickle.dump(query_loss_eval_data, f, pickle.HIGHEST_PROTOCOL)"
   ]
  },
  {
   "cell_type": "code",
   "execution_count": null,
   "metadata": {},
   "outputs": [],
   "source": [
    "with open(os.path.join(local_bandit_data_dir, 'query_loss_eval_data.pkl'), 'rb') as f:\n",
    "  query_loss_eval_data = pickle.load(f)"
   ]
  },
  {
   "cell_type": "code",
   "execution_count": null,
   "metadata": {},
   "outputs": [],
   "source": [
    "globals().update(query_loss_eval_data)"
   ]
  },
  {
   "cell_type": "code",
   "execution_count": null,
   "metadata": {},
   "outputs": [],
   "source": [
    "compute_stoch_eval = lambda: rew_optimizer.run(\n",
    "  traj_opt_cls=StochTrajOptimizer,\n",
    "  traj_opt_run_kwargs=stoch_traj_opt_run_kwargs,\n",
    "  traj_opt_init_kwargs=stoch_traj_opt_init_kwargs,\n",
    "  **rew_opt_kwargs\n",
    "  )"
   ]
  },
  {
   "cell_type": "code",
   "execution_count": null,
   "metadata": {},
   "outputs": [],
   "source": [
    "stoch_evals = [compute_stoch_eval() for _ in range(n_trials)]"
   ]
  },
  {
   "cell_type": "code",
   "execution_count": null,
   "metadata": {},
   "outputs": [],
   "source": [
    "with open(os.path.join(local_bandit_data_dir, 'stoch_evals.pkl'), 'wb') as f:\n",
    "  pickle.dump(stoch_evals, f, pickle.HIGHEST_PROTOCOL)"
   ]
  },
  {
   "cell_type": "code",
   "execution_count": null,
   "metadata": {},
   "outputs": [],
   "source": [
    "with open(os.path.join(local_bandit_data_dir, 'stoch_evals.pkl'), 'rb') as f:\n",
    "  stoch_evals = pickle.load(f)"
   ]
  },
  {
   "cell_type": "markdown",
   "metadata": {},
   "source": []
  },
  {
   "cell_type": "code",
   "execution_count": null,
   "metadata": {},
   "outputs": [],
   "source": [
    "cloud_dir = os.path.join(utils.clfbandit_data_dir, 'cloud')"
   ]
  },
  {
   "cell_type": "code",
   "execution_count": null,
   "metadata": {},
   "outputs": [],
   "source": [
    "prior_coeff_evals = [[None for _ in range(n_trials)] for _ in prior_coeffs]\n",
    "query_loss_evals = [[None for _ in range(n_trials)] for _ in query_loss_opts]\n",
    "stoch_evals = [None for _ in range(n_trials)]\n",
    "unif_evals = [None for _ in range(n_trials)]\n",
    "demo_init_evals = [None for _ in range(n_trials)]\n",
    "for fname in os.listdir(cloud_dir):\n",
    "  if fname.endswith('.pkl'):\n",
    "    with open(os.path.join(cloud_dir, fname), 'rb') as f:\n",
    "      conf, result = pickle.load(f)\n",
    "      if conf[0] in prior_coeffs:\n",
    "        if int(fname.split('.pkl')[0]) in [24, 25, 26]:\n",
    "          demo_init_evals[conf[1]] = result\n",
    "        else:\n",
    "          prior_coeff_evals[prior_coeffs.index(conf[0])][conf[1]] = result\n",
    "      elif conf[0] in query_loss_opts:\n",
    "        query_loss_evals[query_loss_opts.index(conf[0])][conf[1]] = result\n",
    "      elif conf[0] == 'stoch':\n",
    "        stoch_evals[conf[1]] = result\n",
    "      elif conf[0] == 'unif':\n",
    "        unif_evals[conf[1]] = result\n",
    "      else:\n",
    "        raise ValueError"
   ]
  },
  {
   "cell_type": "code",
   "execution_count": null,
   "metadata": {},
   "outputs": [],
   "source": [
    "prior_coeffs, prior_coeff_evals = list(zip(*sorted(list(zip(prior_coeffs, prior_coeff_evals)), key=lambda x: x[0][0])))"
   ]
  },
  {
   "cell_type": "markdown",
   "metadata": {},
   "source": []
  },
  {
   "cell_type": "code",
   "execution_count": null,
   "metadata": {},
   "outputs": [],
   "source": [
    "stoch_perf_eval = list(zip(*stoch_evals))[0]\n",
    "unif_perf_eval = list(zip(*unif_evals))[0]\n",
    "demo_init_perf_eval = list(zip(*demo_init_evals))[0]"
   ]
  },
  {
   "cell_type": "code",
   "execution_count": null,
   "metadata": {},
   "outputs": [],
   "source": [
    "print('\\n'.join(list(zip(*prior_coeff_evals[0]))[0][0].keys()))"
   ]
  },
  {
   "cell_type": "code",
   "execution_count": null,
   "metadata": {},
   "outputs": [],
   "source": [
    "label_of_key = {\n",
    "    'rew': 'Reward',\n",
    "    'succ': 'Classification Accuracy in Training Env.',\n",
    "    'ens_unc': 'Ensemble Uncertainty',\n",
    "    'xent': 'Cross-Entropy',\n",
    "    'ent': 'Entropy',\n",
    "    'acc': 'Classification Accuracy',\n",
    "    'n_queries': 'Number of Queries',\n",
    "    'trans_succ': 'Classification Accuracy in Test Env.',\n",
    "    'trans_rew': 'Log-Likelihood in Test Env.'\n",
    "    }"
   ]
  },
  {
   "cell_type": "code",
   "execution_count": null,
   "metadata": {},
   "outputs": [],
   "source": [
    "plt.rcParams.update({'font.size': 14})"
   ]
  },
  {
   "cell_type": "code",
   "execution_count": null,
   "metadata": {},
   "outputs": [],
   "source": [
    "x_key = 'n_queries'\n",
    "best_prior_coeff_idx = 2"
   ]
  },
  {
   "cell_type": "code",
   "execution_count": null,
   "metadata": {},
   "outputs": [],
   "source": [
    "smooth_win = 5\n",
    "\n",
    "plt.title('MNIST')\n",
    "\n",
    "y_key = 'trans_succ'\n",
    "\n",
    "plt.xlabel(label_of_key.get(x_key, x_key))\n",
    "plt.ylabel(label_of_key.get(y_key, y_key))\n",
    "\n",
    "plt.axhline(\n",
    "    y=opt_rew_eval['perf'][y_key], \n",
    "    linestyle=':', \n",
    "    label='Offline Classifier', \n",
    "    color='green',\n",
    "    linewidth=3\n",
    "    )\n",
    "\n",
    "plt.axhline(\n",
    "    y=0.2, \n",
    "    linestyle=':', \n",
    "    label='Random Policy (Baseline)', \n",
    "    color='gray',\n",
    "    linewidth=3\n",
    "    )\n",
    "\n",
    "utils.plot_perf_evals(\n",
    "    stoch_perf_eval, \n",
    "    x_key, \n",
    "    y_key, \n",
    "    label='Random Digits from Training Env. (Baseline)', \n",
    "    smooth_win=smooth_win, \n",
    "    color='teal'\n",
    "    )\n",
    "\n",
    "prior_coeff_idx = best_prior_coeff_idx\n",
    "prior_coeff = prior_coeffs[prior_coeff_idx]\n",
    "evals = prior_coeff_evals[prior_coeff_idx]\n",
    "perf_evals = list(zip(*evals))[0]\n",
    "utils.plot_perf_evals(\n",
    "    perf_evals, \n",
    "    x_key, \n",
    "    y_key, \n",
    "    label='ReQueST (Ours)', \n",
    "    smooth_win=smooth_win, \n",
    "    color='orange'\n",
    "    )\n",
    "\n",
    "plt.legend(loc='lower center', bbox_to_anchor=(0.5, -0.7), framealpha=0.)\n",
    "\n",
    "plt.savefig(\n",
    "    os.path.join(utils.clfbandit_data_dir, 'figures', 'clfbandit-4.pdf'), \n",
    "    dpi=500, \n",
    "    bbox_inches='tight',\n",
    "    transparent=True\n",
    "    )\n",
    "\n",
    "plt.show()"
   ]
  },
  {
   "cell_type": "code",
   "execution_count": null,
   "metadata": {},
   "outputs": [],
   "source": [
    "y_key = 'trans_succ'"
   ]
  },
  {
   "cell_type": "code",
   "execution_count": null,
   "metadata": {},
   "outputs": [],
   "source": [
    "smooth_win = 5\n",
    "\n",
    "plt.title('MNIST')\n",
    "\n",
    "plt.xlabel(label_of_key.get(x_key, x_key))\n",
    "plt.ylabel(label_of_key.get(y_key, y_key))\n",
    "\n",
    "plt.axhline(\n",
    "    y=opt_rew_eval['perf'][y_key], \n",
    "    linestyle=':', \n",
    "    label='Offline Classifier', \n",
    "    color='green',\n",
    "    linewidth=3\n",
    "    )\n",
    "\n",
    "plt.axhline(\n",
    "    y=0.2, \n",
    "    linestyle=':', \n",
    "    label='Random Policy (Baseline)', \n",
    "    color='gray',\n",
    "    linewidth=3\n",
    "    )\n",
    "\n",
    "colors = [\n",
    "    'teal',\n",
    "    'gray',\n",
    "    'orange',\n",
    "    'red'\n",
    "    ]\n",
    "assert len(colors) == len(prior_coeffs)\n",
    "\n",
    "for prior_coeff, evals, color in zip(prior_coeffs, prior_coeff_evals, colors):\n",
    "  perf_evals = list(zip(*evals))[0]\n",
    "  label = '$\\lambda = $ %0.2f' % prior_coeff[0]\n",
    "  label = label.replace('inf', '$\\infty$')\n",
    "  utils.plot_perf_evals(\n",
    "      perf_evals, \n",
    "      x_key, \n",
    "      y_key, \n",
    "      label=label, \n",
    "      smooth_win=smooth_win, \n",
    "      color=color\n",
    "      )\n",
    "\n",
    "plt.legend(loc='lower center', bbox_to_anchor=(0.5, -0.6), framealpha=0., ncol=2)\n",
    "\n",
    "plt.savefig(\n",
    "    os.path.join(utils.clfbandit_data_dir, 'figures', 'clfbandit-6.pdf'), \n",
    "    dpi=500, \n",
    "    bbox_inches='tight',\n",
    "    transparent=True\n",
    "    )\n",
    "plt.show()"
   ]
  },
  {
   "cell_type": "code",
   "execution_count": null,
   "metadata": {},
   "outputs": [],
   "source": [
    "def compute_best_perf(evals, y_key):\n",
    "  perf_evals = list(zip(*evals))[0]\n",
    "  mat = utils.make_perf_mat(perf_evals, y_key)\n",
    "  means = utils.col_means(mat)\n",
    "  stderrs = utils.col_stderrs(mat)\n",
    "  if y_key in ['rew', 'succ', 'trans_succ', 'acc']:\n",
    "    idx = np.argmax(means)\n",
    "  elif y_key in ['xent']:\n",
    "    idx = np.argmin(means)\n",
    "  else:\n",
    "    raise ValueError\n",
    "  return means[idx], stderrs[idx]"
   ]
  },
  {
   "cell_type": "code",
   "execution_count": null,
   "metadata": {},
   "outputs": [],
   "source": [
    "best_perfs = []\n",
    "for prior_coeff, evals in zip(prior_coeffs, prior_coeff_evals):\n",
    "  best_perfs.append((prior_coeff[0], *compute_best_perf(evals, y_key)))\n",
    "best_perfs = sorted(best_perfs, key=lambda x: x[0])\n",
    "\n",
    "best_stoch_perf = compute_best_perf(stoch_evals, y_key)"
   ]
  },
  {
   "cell_type": "code",
   "execution_count": null,
   "metadata": {},
   "outputs": [],
   "source": [
    "y_key = 'trans_succ'\n",
    "\n",
    "plt.title('MNIST')\n",
    "\n",
    "plt.xlabel('Regularization Constant $\\lambda$')\n",
    "plt.ylabel(label_of_key.get(y_key, y_key))\n",
    "\n",
    "plt.axhline(\n",
    "    y=opt_rew_eval['perf'][y_key], \n",
    "    linestyle=':', \n",
    "    label='Offline Classifier', \n",
    "    color='green',\n",
    "    linewidth=3\n",
    "    )\n",
    "'''\n",
    "plt.axhline(\n",
    "    y=0.2, \n",
    "    linestyle=':', \n",
    "    label='Random Policy (Baseline)', \n",
    "    color='gray',\n",
    "    linewidth=3\n",
    "    )\n",
    "'''\n",
    "xs, ys, yerrs = list(zip(*best_perfs))\n",
    "plt.errorbar(\n",
    "    xs, \n",
    "    y=ys, \n",
    "    yerr=yerrs, \n",
    "    marker='o', \n",
    "    color='orange', \n",
    "    label='ReQueST (Ours)',\n",
    "    capsize=5,\n",
    "    linestyle=''\n",
    "    )\n",
    "\n",
    "plt.xscale('symlog', linthreshx=1e-2)\n",
    "\n",
    "plt.legend(loc='lower center', bbox_to_anchor=(0.5, -0.5), framealpha=0., ncol=1)\n",
    "\n",
    "plt.savefig(\n",
    "    os.path.join(utils.clfbandit_data_dir, 'figures', 'clfbandit-7.pdf'), \n",
    "    dpi=500, \n",
    "    bbox_inches='tight',\n",
    "    transparent=True\n",
    "    )\n",
    "\n",
    "plt.show()"
   ]
  },
  {
   "cell_type": "code",
   "execution_count": null,
   "metadata": {},
   "outputs": [],
   "source": [
    "label_of_acq_func = {\n",
    "  'min_rew': 'Min. Reward',\n",
    "  'max_rew': 'Max. Reward',\n",
    "  'max_nov': 'Max. Novelty',\n",
    "  'rew_uncertainty': 'Max. Uncertainty',\n",
    "  'max_imi_pol_uncertainty': 'Max. Uncertainty'\n",
    "}"
   ]
  },
  {
   "cell_type": "code",
   "execution_count": null,
   "metadata": {},
   "outputs": [],
   "source": [
    "smooth_win = 5\n",
    "\n",
    "plt.title('MNIST')\n",
    "\n",
    "y_key = 'trans_succ'\n",
    "\n",
    "plt.xlabel(label_of_key.get(x_key, x_key))\n",
    "plt.ylabel(label_of_key.get(y_key, y_key))\n",
    "\n",
    "plt.axhline(\n",
    "    y=opt_rew_eval['perf'][y_key], \n",
    "    linestyle=':', \n",
    "    label='Offline Classifier', \n",
    "    color='green',\n",
    "    linewidth=3\n",
    "    )\n",
    "'''\n",
    "plt.axhline(\n",
    "    y=0.2, \n",
    "    linestyle=':', \n",
    "    label='Random Policy (Baseline)', \n",
    "    color='gray',\n",
    "    linewidth=3\n",
    "    )\n",
    "'''\n",
    "prior_coeff_idx = best_prior_coeff_idx\n",
    "perf_evals = list(zip(*prior_coeff_evals[prior_coeff_idx]))[0]\n",
    "utils.plot_perf_evals(\n",
    "    perf_evals, \n",
    "    x_key, \n",
    "    y_key, \n",
    "    label='All Acquisition Functions', \n",
    "    smooth_win=smooth_win,\n",
    "    color='orange'\n",
    "    )\n",
    "\n",
    "colors = [\n",
    "  'teal',\n",
    "  'gray'\n",
    "]\n",
    "assert len(colors) == len(query_loss_opts)\n",
    "\n",
    "for query_loss_opt, evals, color in zip(query_loss_opts, query_loss_evals, colors):\n",
    "  perf_evals = list(zip(*evals))[0]\n",
    "  label = 'All - %s' % label_of_acq_func.get(query_loss_opt, query_loss_opt)\n",
    "  utils.plot_perf_evals(\n",
    "      perf_evals, \n",
    "      x_key, \n",
    "      y_key, \n",
    "      label=label, \n",
    "      smooth_win=smooth_win,\n",
    "      color=color\n",
    "      )\n",
    "    \n",
    "plt.legend(loc='lower center', bbox_to_anchor=(0.5, -0.7), framealpha=0., ncol=1)\n",
    "\n",
    "plt.ylim([0.5, None])\n",
    "\n",
    "plt.savefig(\n",
    "    os.path.join(utils.clfbandit_data_dir, 'figures', 'clfbandit-8.pdf'), \n",
    "    dpi=500, \n",
    "    bbox_inches='tight',\n",
    "    transparent=True\n",
    "    )\n",
    "\n",
    "plt.show()"
   ]
  },
  {
   "cell_type": "code",
   "execution_count": null,
   "metadata": {},
   "outputs": [],
   "source": [
    "qs_of_query_loss_opt = {}\n",
    "for query_loss_opt in ['max_imi_pol_uncertainty', 'max_nov']:\n",
    "  if query_loss_opt == 'max_imi_pol_uncertainty':\n",
    "      init_idx = 10\n",
    "  elif query_loss_opt == 'max_nov':\n",
    "    init_idx = 11\n",
    "  else:\n",
    "    raise ValueError\n",
    "\n",
    "  qs = []\n",
    "  for r in query_data['demo_rollouts'][init_idx::2]:\n",
    "    qs.append(r[0][0])\n",
    "  qs = np.array(qs)\n",
    "  qs = encoder.decode_batch_latents(qs)\n",
    "  \n",
    "  qs_of_query_loss_opt[query_loss_opt] = qs"
   ]
  },
  {
   "cell_type": "code",
   "execution_count": null,
   "metadata": {
    "scrolled": true
   },
   "outputs": [],
   "source": [
    "def plot_dig_tile(query_loss_opt, fig_num):\n",
    "  n_col = 10\n",
    "  n_row = 10\n",
    "  _, axs = plt.subplots(n_row, n_col, figsize=(20, 20))\n",
    "  axs = axs.flatten()\n",
    "  qs = qs_of_query_loss_opt[query_loss_opt]\n",
    "  chunk_size = qs.shape[0] // len(axs)\n",
    "  for i, ax in enumerate(axs):\n",
    "    ax.imshow(qs[i * chunk_size, :, :, 0], cmap=mpl.cm.binary)\n",
    "    ax.grid(False)\n",
    "    ax.axis('off')\n",
    "    \n",
    "  plt.savefig(\n",
    "      os.path.join(utils.clfbandit_data_dir, 'figures', 'clfbandit-%d.pdf' % fig_num), \n",
    "      bbox_inches='tight', \n",
    "      dpi=500,\n",
    "      transparent=True\n",
    "      )\n",
    "  \n",
    "  plt.show()"
   ]
  },
  {
   "cell_type": "code",
   "execution_count": null,
   "metadata": {},
   "outputs": [],
   "source": [
    "plot_dig_tile('max_imi_pol_uncertainty', 10)"
   ]
  },
  {
   "cell_type": "code",
   "execution_count": null,
   "metadata": {},
   "outputs": [],
   "source": [
    "plot_dig_tile('max_nov', 11)"
   ]
  },
  {
   "cell_type": "code",
   "execution_count": null,
   "metadata": {},
   "outputs": [],
   "source": [
    "smooth_win = 5\n",
    "\n",
    "y_key = 'trans_rew'\n",
    "\n",
    "plt.title('MNIST')\n",
    "\n",
    "plt.xlabel(label_of_key.get(x_key, x_key))\n",
    "plt.ylabel(label_of_key.get(y_key, y_key))\n",
    "\n",
    "plt.axhline(\n",
    "    y=opt_rew_eval['perf'][y_key], \n",
    "    linestyle=':', \n",
    "    label='Offline Classifier', \n",
    "    color='green',\n",
    "    linewidth=3\n",
    "    )\n",
    "\n",
    "plt.axhline(\n",
    "    y=np.log(0.2), \n",
    "    linestyle=':', \n",
    "    label='Random Policy (Baseline)', \n",
    "    color='gray',\n",
    "    linewidth=3\n",
    "    )\n",
    "\n",
    "utils.plot_perf_evals(\n",
    "    unif_perf_eval, \n",
    "    x_key, \n",
    "    y_key, \n",
    "    label='Random Samples from VAE Prior (Baseline)', \n",
    "    smooth_win=smooth_win, \n",
    "    color='teal'\n",
    "    )\n",
    "\n",
    "utils.plot_perf_evals(\n",
    "    demo_init_perf_eval, \n",
    "    x_key, \n",
    "    y_key, \n",
    "    label='ReQueST (Ours)', \n",
    "    smooth_win=smooth_win, \n",
    "    color='orange'\n",
    "    )\n",
    "  \n",
    "plt.legend(loc='lower center', bbox_to_anchor=(0.5, -0.7), framealpha=0.)\n",
    "\n",
    "plt.xlim([0, 500])\n",
    "plt.ylim([-5, None])\n",
    "\n",
    "plt.savefig(\n",
    "    os.path.join(utils.clfbandit_data_dir, 'figures', 'clfbandit-12.pdf'), \n",
    "    dpi=500, \n",
    "    bbox_inches='tight',\n",
    "    transparent=True\n",
    "    )\n",
    "\n",
    "plt.show()"
   ]
  },
  {
   "cell_type": "code",
   "execution_count": null,
   "metadata": {},
   "outputs": [],
   "source": [
    "smooth_win = 5\n",
    "\n",
    "y_key = 'succ'\n",
    "\n",
    "plt.title('MNIST')\n",
    "\n",
    "plt.xlabel(label_of_key.get(x_key, x_key))\n",
    "plt.ylabel(label_of_key.get(y_key, y_key))\n",
    "\n",
    "plt.axhline(\n",
    "    y=opt_rew_eval['perf'][y_key], \n",
    "    linestyle=':', \n",
    "    label='Offline Classifier', \n",
    "    color='green',\n",
    "    linewidth=3\n",
    "    )\n",
    "\n",
    "plt.axhline(\n",
    "    y=0.2, \n",
    "    linestyle=':', \n",
    "    label='Random Policy (Baseline)', \n",
    "    color='gray',\n",
    "    linewidth=3\n",
    "    )\n",
    "\n",
    "utils.plot_perf_evals(\n",
    "    stoch_perf_eval, \n",
    "    x_key, \n",
    "    y_key, \n",
    "    label='Random Digits from Training Env. (Baseline)', \n",
    "    smooth_win=smooth_win, \n",
    "    color='teal'\n",
    "    )\n",
    "\n",
    "prior_coeff_idx = best_prior_coeff_idx\n",
    "prior_coeff = prior_coeffs[prior_coeff_idx]\n",
    "evals = prior_coeff_evals[prior_coeff_idx]\n",
    "perf_evals = list(zip(*evals))[0]\n",
    "utils.plot_perf_evals(\n",
    "    perf_evals, \n",
    "    x_key, \n",
    "    y_key, \n",
    "    label='ReQueST (Ours)', \n",
    "    smooth_win=smooth_win, \n",
    "    color='orange'\n",
    "    )\n",
    "  \n",
    "plt.legend(loc='lower center', bbox_to_anchor=(0.5, -0.7), framealpha=0.)\n",
    "\n",
    "plt.ylim([0.5, None])\n",
    "\n",
    "plt.savefig(\n",
    "    os.path.join(utils.clfbandit_data_dir, 'figures', 'clfbandit-13.pdf'), \n",
    "    dpi=500, \n",
    "    bbox_inches='tight',\n",
    "    transparent=True\n",
    "    )\n",
    "\n",
    "plt.show()"
   ]
  },
  {
   "cell_type": "code",
   "execution_count": null,
   "metadata": {},
   "outputs": [],
   "source": [
    "distrn = np.zeros(10)\n",
    "distrn[5:] = 0.2\n",
    "\n",
    "xs = list(range(10))\n",
    "\n",
    "plt.xlabel('Class')\n",
    "plt.ylabel('Frequency in Training Env.')\n",
    "plt.bar(x=xs, height=distrn, color='orange')\n",
    "plt.xticks(xs, xs)\n",
    "plt.ylim([0, 1])\n",
    "plt.savefig(\n",
    "    os.path.join(utils.clfbandit_data_dir, 'figures', 'clfbandit-14.pdf'), \n",
    "    dpi=500, \n",
    "    bbox_inches='tight',\n",
    "    transparent=True\n",
    "    )\n",
    "plt.show()"
   ]
  },
  {
   "cell_type": "code",
   "execution_count": null,
   "metadata": {},
   "outputs": [],
   "source": [
    "distrn = np.zeros(10)\n",
    "distrn[:5] = 0.2\n",
    "\n",
    "xs = list(range(10))\n",
    "\n",
    "plt.xlabel('Class')\n",
    "plt.ylabel('Frequency in Transfer Env.')\n",
    "plt.bar(x=xs, height=distrn, color='orange')\n",
    "plt.xticks(xs, xs)\n",
    "plt.ylim([0, 1])\n",
    "plt.savefig(\n",
    "    os.path.join(utils.clfbandit_data_dir, 'figures', 'clfbandit-15.pdf'), \n",
    "    dpi=500, \n",
    "    bbox_inches='tight',\n",
    "    transparent=True\n",
    "    )\n",
    "plt.show()"
   ]
  },
  {
   "cell_type": "code",
   "execution_count": null,
   "metadata": {
    "colab": {},
    "colab_type": "code",
    "id": "iMjm8LZBFuvC"
   },
   "outputs": [],
   "source": []
  }
 ],
 "metadata": {
  "colab": {
   "collapsed_sections": [],
   "last_runtime": {
    "build_target": "",
    "kind": "local"
   },
   "name": "pqsynth",
   "provenance": [],
   "version": "0.3.2"
  },
  "kernelspec": {
   "display_name": "Python 3",
   "language": "python",
   "name": "python3"
  },
  "language_info": {
   "codemirror_mode": {
    "name": "ipython",
    "version": 3
   },
   "file_extension": ".py",
   "mimetype": "text/x-python",
   "name": "python",
   "nbconvert_exporter": "python",
   "pygments_lexer": "ipython3",
   "version": "3.7.3"
  }
 },
 "nbformat": 4,
 "nbformat_minor": 1
}
