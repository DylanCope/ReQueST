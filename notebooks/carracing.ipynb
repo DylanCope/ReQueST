{
 "cells": [
  {
   "cell_type": "code",
   "execution_count": null,
   "metadata": {
    "scrolled": true
   },
   "outputs": [],
   "source": [
    "%load_ext autoreload\n",
    "%autoreload 2"
   ]
  },
  {
   "cell_type": "code",
   "execution_count": null,
   "metadata": {
    "colab": {},
    "colab_type": "code",
    "id": "-E2YX9BwFur7",
    "scrolled": false
   },
   "outputs": [],
   "source": [
    "from __future__ import division\n",
    "from copy import deepcopy\n",
    "import pickle\n",
    "import random\n",
    "import uuid\n",
    "import os\n",
    "\n",
    "import tensorflow as tf\n",
    "import numpy as np\n",
    "\n",
    "from rqst.traj_opt import GDTrajOptimizer, StochTrajOptimizer\n",
    "from rqst.reward_opt import InteractiveRewardOptimizer\n",
    "from rqst.dynamics_models import MDNRNNDynamicsModel, AbsorptionModel\n",
    "from rqst.dynamics_models import load_wm_pretrained_rnn\n",
    "from rqst.encoder_models import VAEModel, load_wm_pretrained_vae\n",
    "from rqst.reward_models import RewardModel\n",
    "from rqst import reward_models\n",
    "from rqst import utils\n",
    "from rqst import envs"
   ]
  },
  {
   "cell_type": "code",
   "execution_count": null,
   "metadata": {
    "colab": {},
    "colab_type": "code",
    "id": "ASKqw6QpFur-",
    "scrolled": false
   },
   "outputs": [],
   "source": [
    "from matplotlib import pyplot as plt\n",
    "import matplotlib.animation\n",
    "import matplotlib as mpl\n",
    "\n",
    "%matplotlib inline"
   ]
  },
  {
   "cell_type": "code",
   "execution_count": null,
   "metadata": {},
   "outputs": [],
   "source": [
    "import warnings\n",
    "warnings.filterwarnings('ignore')"
   ]
  },
  {
   "cell_type": "code",
   "execution_count": null,
   "metadata": {
    "colab": {},
    "colab_type": "code",
    "id": "U0Q0o0dUFusG",
    "scrolled": false
   },
   "outputs": [],
   "source": [
    "sess = utils.make_tf_session(gpu_mode=True)"
   ]
  },
  {
   "cell_type": "code",
   "execution_count": null,
   "metadata": {
    "scrolled": true
   },
   "outputs": [],
   "source": [
    "plot_traj = lambda traj, *args, **kwargs: utils.plot_trajs([traj], *args, **kwargs)"
   ]
  },
  {
   "cell_type": "code",
   "execution_count": null,
   "metadata": {
    "scrolled": true
   },
   "outputs": [],
   "source": [
    "env = envs.make_carracing_env(sess, load_reward=True)\n",
    "random_policy = utils.make_random_policy(env)"
   ]
  },
  {
   "cell_type": "code",
   "execution_count": null,
   "metadata": {},
   "outputs": [],
   "source": [
    "#trans_env = envs.make_carracing_trans_env(sess, load_reward=True)\n",
    "trans_env = None"
   ]
  },
  {
   "cell_type": "markdown",
   "metadata": {
    "colab_type": "text",
    "id": "M6374BjIFusm"
   },
   "source": [
    "setup env, sanity check"
   ]
  },
  {
   "cell_type": "code",
   "execution_count": null,
   "metadata": {
    "colab": {
     "height": 66
    },
    "colab_type": "code",
    "executionInfo": {
     "elapsed": 60500,
     "status": "ok",
     "timestamp": 1560332475113,
     "user": {
      "displayName": "Sid Reddy",
      "photoUrl": "",
      "userId": "00109661562254874883"
     },
     "user_tz": -60
    },
    "id": "R0SbztOwGJLa",
    "outputId": "9bcfb5a6-012a-4d94-8a8c-aef79db2376f",
    "scrolled": false
   },
   "outputs": [],
   "source": [
    "env_rollout = utils.run_ep(env.expert_policy, env, max_ep_len=100, render=True)"
   ]
  },
  {
   "cell_type": "code",
   "execution_count": null,
   "metadata": {
    "colab": {},
    "colab_type": "code",
    "id": "5_TmEnFaGJI4",
    "scrolled": true
   },
   "outputs": [],
   "source": [
    "env.close()"
   ]
  },
  {
   "cell_type": "code",
   "execution_count": null,
   "metadata": {
    "colab": {
     "height": 33
    },
    "colab_type": "code",
    "executionInfo": {
     "elapsed": 3686,
     "status": "ok",
     "timestamp": 1560332634165,
     "user": {
      "displayName": "Sid Reddy",
      "photoUrl": "",
      "userId": "00109661562254874883"
     },
     "user_tz": -60
    },
    "id": "VKhdSXd5D3Dt",
    "outputId": "eee6a6b1-3698-4684-aae9-eaf8907dee9d",
    "scrolled": true
   },
   "outputs": [],
   "source": [
    "trans_rollout = utils.run_ep(env.expert_policy, trans_env, max_ep_len=100, render=True)"
   ]
  },
  {
   "cell_type": "code",
   "execution_count": null,
   "metadata": {
    "colab": {},
    "colab_type": "code",
    "id": "E5xQ0yshD2_3",
    "scrolled": true
   },
   "outputs": [],
   "source": [
    "trans_env.close()"
   ]
  },
  {
   "cell_type": "markdown",
   "metadata": {
    "colab_type": "text",
    "id": "x29AwDLUFus5"
   },
   "source": [
    "collect demonstrations, augment with random rollouts"
   ]
  },
  {
   "cell_type": "code",
   "execution_count": null,
   "metadata": {},
   "outputs": [],
   "source": [
    "n_slow_rollouts = 10"
   ]
  },
  {
   "cell_type": "code",
   "execution_count": null,
   "metadata": {},
   "outputs": [],
   "source": [
    "def slow_policy(obs):\n",
    "  expert_act = env.expert_policy(obs)\n",
    "  expert_act[1] = min(0.005, expert_act[1])\n",
    "  return expert_act"
   ]
  },
  {
   "cell_type": "code",
   "execution_count": null,
   "metadata": {},
   "outputs": [],
   "source": [
    "raw_slow_rollouts = [utils.run_ep(slow_policy, env, render=True) for _ in range(n_slow_rollouts)]"
   ]
  },
  {
   "cell_type": "code",
   "execution_count": null,
   "metadata": {},
   "outputs": [],
   "source": [
    "with open(os.path.join(utils.carracing_data_dir, 'raw_slow_rollouts.pkl'), 'wb') as f:\n",
    "  pickle.dump(raw_slow_rollouts, f, pickle.HIGHEST_PROTOCOL)"
   ]
  },
  {
   "cell_type": "code",
   "execution_count": null,
   "metadata": {},
   "outputs": [],
   "source": [
    "with open(os.path.join(utils.carracing_data_dir, 'raw_slow_rollouts.pkl'), 'rb') as f:\n",
    "  raw_slow_rollouts = pickle.load(f)"
   ]
  },
  {
   "cell_type": "code",
   "execution_count": null,
   "metadata": {},
   "outputs": [],
   "source": [
    "n_expert_rollouts = 10"
   ]
  },
  {
   "cell_type": "code",
   "execution_count": null,
   "metadata": {
    "scrolled": true
   },
   "outputs": [],
   "source": [
    "raw_expert_rollouts = [utils.run_ep(env.expert_policy, env, render=True) for _ in range(n_expert_rollouts)]"
   ]
  },
  {
   "cell_type": "code",
   "execution_count": null,
   "metadata": {},
   "outputs": [],
   "source": [
    "with open(os.path.join(utils.carracing_data_dir, 'raw_expert_rollouts.pkl'), 'wb') as f:\n",
    "  pickle.dump(raw_expert_rollouts, f, pickle.HIGHEST_PROTOCOL)"
   ]
  },
  {
   "cell_type": "code",
   "execution_count": null,
   "metadata": {},
   "outputs": [],
   "source": [
    "with open(os.path.join(utils.carracing_data_dir, 'raw_expert_rollouts.pkl'), 'rb') as f:\n",
    "  raw_expert_rollouts = pickle.load(f)"
   ]
  },
  {
   "cell_type": "code",
   "execution_count": null,
   "metadata": {},
   "outputs": [],
   "source": [
    "n_subopt_rollouts = 10"
   ]
  },
  {
   "cell_type": "code",
   "execution_count": null,
   "metadata": {},
   "outputs": [],
   "source": [
    "raw_subopt_rollouts = [utils.run_ep(env.subopt_policy, env, render=True) for _ in range(n_subopt_rollouts)]"
   ]
  },
  {
   "cell_type": "code",
   "execution_count": null,
   "metadata": {},
   "outputs": [],
   "source": [
    "with open(os.path.join(utils.carracing_data_dir, 'raw_subopt_rollouts.pkl'), 'wb') as f:\n",
    "  pickle.dump(raw_subopt_rollouts, f, pickle.HIGHEST_PROTOCOL)"
   ]
  },
  {
   "cell_type": "code",
   "execution_count": null,
   "metadata": {
    "colab": {},
    "colab_type": "code",
    "id": "-PrZQBkbExJK",
    "scrolled": true
   },
   "outputs": [],
   "source": [
    "with open(os.path.join(utils.carracing_data_dir, 'raw_subopt_rollouts.pkl'), 'rb') as f:\n",
    "  raw_subopt_rollouts = pickle.load(f)"
   ]
  },
  {
   "cell_type": "code",
   "execution_count": null,
   "metadata": {
    "scrolled": true
   },
   "outputs": [],
   "source": [
    "#raw_demo_rollouts = raw_subopt_rollouts + raw_expert_rollouts\n",
    "#raw_demo_rollouts = raw_subopt_rollouts\n",
    "raw_demo_rollouts = raw_expert_rollouts"
   ]
  },
  {
   "cell_type": "markdown",
   "metadata": {},
   "source": []
  },
  {
   "cell_type": "code",
   "execution_count": null,
   "metadata": {
    "scrolled": true
   },
   "outputs": [],
   "source": [
    "demo_perf = utils.compute_perf_metrics(raw_slow_rollouts, env)"
   ]
  },
  {
   "cell_type": "code",
   "execution_count": null,
   "metadata": {
    "scrolled": true
   },
   "outputs": [],
   "source": [
    "demo_perf"
   ]
  },
  {
   "cell_type": "code",
   "execution_count": null,
   "metadata": {},
   "outputs": [],
   "source": [
    "rand_perf = utils.compute_perf_metrics(raw_rand_rollouts, env)"
   ]
  },
  {
   "cell_type": "code",
   "execution_count": null,
   "metadata": {},
   "outputs": [],
   "source": [
    "rand_perf"
   ]
  },
  {
   "cell_type": "markdown",
   "metadata": {},
   "source": []
  },
  {
   "cell_type": "code",
   "execution_count": null,
   "metadata": {
    "colab": {},
    "colab_type": "code",
    "id": "E3cvgPypHUA6",
    "scrolled": true
   },
   "outputs": [],
   "source": [
    "n_aug_rollouts = 10"
   ]
  },
  {
   "cell_type": "code",
   "execution_count": null,
   "metadata": {
    "colab": {},
    "colab_type": "code",
    "id": "77fho8ZGHT-b",
    "scrolled": true
   },
   "outputs": [],
   "source": [
    "raw_rand_rollouts = [utils.run_ep(random_policy, env, render=True) for _ in range(n_aug_rollouts)]"
   ]
  },
  {
   "cell_type": "code",
   "execution_count": null,
   "metadata": {
    "colab": {},
    "colab_type": "code",
    "id": "bhagq_OnHT3B",
    "scrolled": true
   },
   "outputs": [],
   "source": [
    "with open(os.path.join(utils.carracing_data_dir, 'raw_rand_rollouts.pkl'), 'wb') as f:\n",
    "  pickle.dump(raw_rand_rollouts, f, pickle.HIGHEST_PROTOCOL)"
   ]
  },
  {
   "cell_type": "code",
   "execution_count": null,
   "metadata": {
    "colab": {},
    "colab_type": "code",
    "id": "kaRsH_7fHT0d",
    "scrolled": true
   },
   "outputs": [],
   "source": [
    "with open(os.path.join(utils.carracing_data_dir, 'raw_rand_rollouts.pkl'), 'rb') as f:\n",
    "  raw_rand_rollouts = pickle.load(f)"
   ]
  },
  {
   "cell_type": "code",
   "execution_count": null,
   "metadata": {
    "scrolled": true
   },
   "outputs": [],
   "source": [
    "raw_aug_rollouts = raw_expert_rollouts + raw_subopt_rollouts + raw_rand_rollouts"
   ]
  },
  {
   "cell_type": "markdown",
   "metadata": {},
   "source": []
  },
  {
   "cell_type": "code",
   "execution_count": null,
   "metadata": {
    "scrolled": true
   },
   "outputs": [],
   "source": [
    "raw_aug_obses = np.array([x[0] for rollout in raw_aug_rollouts for x in rollout])\n",
    "raw_aug_obs_data = utils.split_rollouts({'obses': raw_aug_obses})\n",
    "raw_aug_obses.shape"
   ]
  },
  {
   "cell_type": "code",
   "execution_count": null,
   "metadata": {
    "scrolled": false
   },
   "outputs": [],
   "source": [
    "encoder = VAEModel(\n",
    "    sess,\n",
    "    env,\n",
    "    kl_tolerance=0.5,\n",
    "    #scope=str(uuid.uuid4()),\n",
    "    scope_file=os.path.join(utils.carracing_data_dir, 'enc_scope.pkl'),\n",
    "    tf_file=os.path.join(utils.carracing_data_dir, 'enc.tf')\n",
    "    )"
   ]
  },
  {
   "cell_type": "code",
   "execution_count": null,
   "metadata": {
    "scrolled": true
   },
   "outputs": [],
   "source": [
    "encoder.train(\n",
    "    raw_aug_obs_data,\n",
    "    iterations=100000,\n",
    "    ftol=1e-6,\n",
    "    learning_rate=1e-3,\n",
    "    batch_size=32,\n",
    "    val_update_freq=10,\n",
    "    verbose=True\n",
    "    )"
   ]
  },
  {
   "cell_type": "code",
   "execution_count": null,
   "metadata": {
    "scrolled": true
   },
   "outputs": [],
   "source": [
    "encoder.save()"
   ]
  },
  {
   "cell_type": "code",
   "execution_count": null,
   "metadata": {
    "scrolled": true
   },
   "outputs": [],
   "source": [
    "encoder.load()"
   ]
  },
  {
   "cell_type": "code",
   "execution_count": null,
   "metadata": {
    "scrolled": true
   },
   "outputs": [],
   "source": [
    "encoder = load_wm_pretrained_vae(sess, env)"
   ]
  },
  {
   "cell_type": "code",
   "execution_count": null,
   "metadata": {
    "colab": {
     "height": 276
    },
    "colab_type": "code",
    "executionInfo": {
     "elapsed": 333,
     "status": "ok",
     "timestamp": 1560332798543,
     "user": {
      "displayName": "Sid Reddy",
      "photoUrl": "",
      "userId": "00109661562254874883"
     },
     "user_tz": -60
    },
    "id": "cwp7Auj_HqQ2",
    "outputId": "4ba19e57-76f0-4d26-ca4d-97dd95cdd684",
    "scrolled": true
   },
   "outputs": [],
   "source": [
    "obs = raw_demo_rollouts[-2][50][0]\n",
    "plt.imshow(obs)\n",
    "plt.show()"
   ]
  },
  {
   "cell_type": "code",
   "execution_count": null,
   "metadata": {
    "colab": {
     "height": 133
    },
    "colab_type": "code",
    "executionInfo": {
     "elapsed": 407,
     "status": "ok",
     "timestamp": 1560332799230,
     "user": {
      "displayName": "Sid Reddy",
      "photoUrl": "",
      "userId": "00109661562254874883"
     },
     "user_tz": -60
    },
    "id": "cF8-yjRdHqON",
    "outputId": "96bb5247-4745-476d-c48e-9bede177c539",
    "scrolled": true
   },
   "outputs": [],
   "source": [
    "latent = encoder.encode_frame(obs)\n",
    "latent"
   ]
  },
  {
   "cell_type": "code",
   "execution_count": null,
   "metadata": {},
   "outputs": [],
   "source": [
    "latent *= 0"
   ]
  },
  {
   "cell_type": "code",
   "execution_count": null,
   "metadata": {
    "colab": {
     "height": 276
    },
    "colab_type": "code",
    "executionInfo": {
     "elapsed": 459,
     "status": "ok",
     "timestamp": 1560332799866,
     "user": {
      "displayName": "Sid Reddy",
      "photoUrl": "",
      "userId": "00109661562254874883"
     },
     "user_tz": -60
    },
    "id": "YWHAi36mHqLV",
    "outputId": "92225b11-00b6-43f2-98f4-5372b137af50",
    "scrolled": true
   },
   "outputs": [],
   "source": [
    "recon = encoder.decode_latent(latent)\n",
    "plt.imshow(recon)\n",
    "plt.show()"
   ]
  },
  {
   "cell_type": "markdown",
   "metadata": {},
   "source": []
  },
  {
   "cell_type": "code",
   "execution_count": null,
   "metadata": {
    "scrolled": true
   },
   "outputs": [],
   "source": [
    "raw_aug_traj_data = utils.split_rollouts(utils.vectorize_rollouts(\n",
    "  raw_aug_rollouts, env.max_ep_len, preserve_trajs=True))\n",
    "raw_aug_traj_data['obses'].shape"
   ]
  },
  {
   "cell_type": "code",
   "execution_count": null,
   "metadata": {
    "scrolled": true
   },
   "outputs": [],
   "source": [
    "abs_model = None"
   ]
  },
  {
   "cell_type": "code",
   "execution_count": null,
   "metadata": {
    "scrolled": true
   },
   "outputs": [],
   "source": [
    "abs_model = AbsorptionModel(\n",
    "    sess,\n",
    "    env,\n",
    "    n_layers=1,\n",
    "    layer_size=256,\n",
    "    #scope=str(uuid.uuid4()),\n",
    "    tf_file=os.path.join(utils.carracing_data_dir, 'abs.tf'),\n",
    "    scope_file=os.path.join(utils.carracing_data_dir, 'abs_scope.pkl'),\n",
    "    )"
   ]
  },
  {
   "cell_type": "code",
   "execution_count": null,
   "metadata": {
    "colab": {
     "height": 83
    },
    "colab_type": "code",
    "executionInfo": {
     "elapsed": 2934,
     "status": "ok",
     "timestamp": 1560341523231,
     "user": {
      "displayName": "Sid Reddy",
      "photoUrl": "",
      "userId": "00109661562254874883"
     },
     "user_tz": -60
    },
    "id": "sxKt0G6dvJQd",
    "outputId": "177925a6-f5c6-4cbb-e7e0-3655a25822c2",
    "scrolled": true
   },
   "outputs": [],
   "source": [
    "dynamics_model = MDNRNNDynamicsModel(\n",
    "    encoder,\n",
    "    sess,\n",
    "    env,\n",
    "    scope=str(uuid.uuid4()),\n",
    "    tf_file=os.path.join(utils.carracing_data_dir, 'dyn.tf'),\n",
    "    scope_file=os.path.join(utils.carracing_data_dir, 'dyn_scope.pkl'),\n",
    "    abs_model=abs_model\n",
    "    )"
   ]
  },
  {
   "cell_type": "code",
   "execution_count": null,
   "metadata": {
    "colab": {
     "height": 2068
    },
    "colab_type": "code",
    "executionInfo": {
     "elapsed": 33708,
     "status": "error",
     "timestamp": 1560341557712,
     "user": {
      "displayName": "Sid Reddy",
      "photoUrl": "",
      "userId": "00109661562254874883"
     },
     "user_tz": -60
    },
    "id": "rrd6N-yqvJMv",
    "outputId": "d172aef9-e868-4b1e-f6c5-5fcabae23d39",
    "scrolled": true
   },
   "outputs": [],
   "source": [
    "dynamics_model.train(\n",
    "    raw_aug_traj_data,\n",
    "    iterations=200,\n",
    "    learning_rate=1e-3,\n",
    "    ftol=1e-6,\n",
    "    batch_size=32,\n",
    "    val_update_freq=10,\n",
    "    verbose=True\n",
    "    )"
   ]
  },
  {
   "cell_type": "code",
   "execution_count": null,
   "metadata": {
    "colab": {},
    "colab_type": "code",
    "id": "0IE5RMqMMEFt",
    "scrolled": true
   },
   "outputs": [],
   "source": [
    "dynamics_model.save()"
   ]
  },
  {
   "cell_type": "code",
   "execution_count": null,
   "metadata": {
    "colab": {},
    "colab_type": "code",
    "id": "JRDAoK19MECc",
    "scrolled": true
   },
   "outputs": [],
   "source": [
    "dynamics_model.load()"
   ]
  },
  {
   "cell_type": "code",
   "execution_count": null,
   "metadata": {
    "scrolled": true
   },
   "outputs": [],
   "source": [
    "dynamics_model = load_wm_pretrained_rnn(encoder, sess, env)"
   ]
  },
  {
   "cell_type": "markdown",
   "metadata": {},
   "source": []
  },
  {
   "cell_type": "code",
   "execution_count": null,
   "metadata": {
    "colab": {},
    "colab_type": "code",
    "id": "BoVRfwTOyrol",
    "scrolled": true
   },
   "outputs": [],
   "source": [
    "rnn_enc_demo_rollouts = utils.rollouts_of_traj_data(utils.rnn_encode_rollouts(\n",
    "  raw_demo_rollouts, env, encoder, dynamics_model))"
   ]
  },
  {
   "cell_type": "code",
   "execution_count": null,
   "metadata": {
    "colab": {},
    "colab_type": "code",
    "id": "1wl1EWMHys63",
    "scrolled": true
   },
   "outputs": [],
   "source": [
    "with open(os.path.join(utils.carracing_data_dir, 'rnn_enc_demo_rollouts.pkl'), 'wb') as f:\n",
    "  pickle.dump(rnn_enc_demo_rollouts, f, pickle.HIGHEST_PROTOCOL)"
   ]
  },
  {
   "cell_type": "code",
   "execution_count": null,
   "metadata": {
    "colab": {},
    "colab_type": "code",
    "id": "25aSAfWZys38",
    "scrolled": true
   },
   "outputs": [],
   "source": [
    "rnn_enc_aug_rollouts = utils.rollouts_of_traj_data(utils.rnn_encode_rollouts(\n",
    "  raw_aug_rollouts, env, encoder, dynamics_model))"
   ]
  },
  {
   "cell_type": "code",
   "execution_count": null,
   "metadata": {
    "colab": {},
    "colab_type": "code",
    "id": "5Fi8Lv2cyrlu",
    "scrolled": true
   },
   "outputs": [],
   "source": [
    "with open(os.path.join(utils.carracing_data_dir, 'rnn_enc_aug_rollouts.pkl'), 'wb') as f:\n",
    "  pickle.dump(rnn_enc_aug_rollouts, f, pickle.HIGHEST_PROTOCOL)"
   ]
  },
  {
   "cell_type": "markdown",
   "metadata": {},
   "source": []
  },
  {
   "cell_type": "code",
   "execution_count": null,
   "metadata": {
    "scrolled": true
   },
   "outputs": [],
   "source": [
    "with open(os.path.join(utils.carracing_data_dir, 'rnn_enc_demo_rollouts.pkl'), 'rb') as f:\n",
    "  demo_rollouts = pickle.load(f)\n",
    "\n",
    "with open(os.path.join(utils.carracing_data_dir, 'rnn_enc_aug_rollouts.pkl'), 'rb') as f:\n",
    "  aug_rollouts = pickle.load(f)"
   ]
  },
  {
   "cell_type": "code",
   "execution_count": null,
   "metadata": {
    "scrolled": true
   },
   "outputs": [],
   "source": [
    "env.default_init_obs = demo_rollouts[-2][50][0]"
   ]
  },
  {
   "cell_type": "code",
   "execution_count": null,
   "metadata": {},
   "outputs": [],
   "source": [
    "plt.imshow(encoder.decode_latent(env.default_init_obs[:env.n_z_dim]))\n",
    "plt.show()"
   ]
  },
  {
   "cell_type": "code",
   "execution_count": null,
   "metadata": {},
   "outputs": [],
   "source": [
    "env.default_init_obses = [demo_rollouts[-2][50][0]]\n",
    "env.default_init_obses += random.sample([x[0] for r in demo_rollouts for x in r], 3)"
   ]
  },
  {
   "cell_type": "code",
   "execution_count": null,
   "metadata": {},
   "outputs": [],
   "source": [
    "with open(os.path.join(utils.carracing_data_dir, 'default_init_obses.pkl'), 'wb') as f:\n",
    "  pickle.dump(env.default_init_obses, f, pickle.HIGHEST_PROTOCOL)"
   ]
  },
  {
   "cell_type": "code",
   "execution_count": null,
   "metadata": {},
   "outputs": [],
   "source": [
    "with open(os.path.join(utils.carracing_data_dir, 'default_init_obses.pkl'), 'rb') as f:\n",
    "  env.default_init_obses = pickle.load(f)"
   ]
  },
  {
   "cell_type": "code",
   "execution_count": null,
   "metadata": {
    "scrolled": false
   },
   "outputs": [],
   "source": [
    "for obs in env.default_init_obses:\n",
    "  plt.imshow(encoder.decode_latent(obs[:env.n_z_dim]))\n",
    "  plt.show()"
   ]
  },
  {
   "cell_type": "code",
   "execution_count": null,
   "metadata": {},
   "outputs": [],
   "source": [
    "trans_rollouts = utils.rollouts_of_traj_data(utils.rnn_encode_rollouts(\n",
    "  [trans_rollout], env, encoder, dynamics_model))\n",
    "trans_env.default_init_obs = trans_rollouts[0][20][0]"
   ]
  },
  {
   "cell_type": "code",
   "execution_count": null,
   "metadata": {},
   "outputs": [],
   "source": [
    "plt.imshow(encoder.decode_latent(trans_env.default_init_obs[:env.n_z_dim]))\n",
    "plt.show()"
   ]
  },
  {
   "cell_type": "code",
   "execution_count": null,
   "metadata": {
    "scrolled": true
   },
   "outputs": [],
   "source": [
    "demo_data = utils.split_rollouts(utils.vectorize_rollouts(demo_rollouts, env.max_ep_len))\n",
    "aug_data = utils.split_rollouts(utils.vectorize_rollouts(aug_rollouts, env.max_ep_len))\n",
    "demo_data['obses'].shape, aug_data['obses'].shape"
   ]
  },
  {
   "cell_type": "markdown",
   "metadata": {
    "colab_type": "text",
    "id": "LkvuD7UttA_X"
   },
   "source": []
  },
  {
   "cell_type": "code",
   "execution_count": null,
   "metadata": {
    "scrolled": true
   },
   "outputs": [],
   "source": [
    "demo_data_for_reward_model = demo_data\n",
    "demo_rollouts_for_reward_model = demo_rollouts"
   ]
  },
  {
   "cell_type": "code",
   "execution_count": null,
   "metadata": {},
   "outputs": [],
   "source": [
    "sketch_data_for_reward_model = aug_data\n",
    "sketch_rollouts_for_reward_model = aug_rollouts"
   ]
  },
  {
   "cell_type": "code",
   "execution_count": null,
   "metadata": {},
   "outputs": [],
   "source": [
    "sketch_data_for_reward_model = demo_data\n",
    "sketch_rollouts_for_reward_model = demo_rollouts"
   ]
  },
  {
   "cell_type": "code",
   "execution_count": null,
   "metadata": {
    "scrolled": true
   },
   "outputs": [],
   "source": [
    "pref_data_for_reward_model = None\n",
    "pref_logs_for_reward_model = None"
   ]
  },
  {
   "cell_type": "code",
   "execution_count": null,
   "metadata": {
    "scrolled": true
   },
   "outputs": [],
   "source": [
    "sketch_rollouts_for_reward_model = [[x for x in rollout if x[2] != env.rew_classes[0]] for rollout in sketch_rollouts_for_reward_model]"
   ]
  },
  {
   "cell_type": "code",
   "execution_count": null,
   "metadata": {},
   "outputs": [],
   "source": [
    "sketch_data_for_reward_model = utils.split_rollouts(utils.vectorize_rollouts(\n",
    "  sketch_rollouts_for_reward_model, env.max_ep_len))"
   ]
  },
  {
   "cell_type": "code",
   "execution_count": null,
   "metadata": {
    "scrolled": true
   },
   "outputs": [],
   "source": [
    "autolabels = reward_models.autolabel_prefs(\n",
    "    aug_rollouts,\n",
    "    env,\n",
    "    segment_len=env.max_ep_len+1\n",
    "    )"
   ]
  },
  {
   "cell_type": "code",
   "execution_count": null,
   "metadata": {
    "scrolled": true
   },
   "outputs": [],
   "source": [
    "pref_logs_for_reward_model = autolabels\n",
    "pref_data_for_reward_model = utils.split_prefs(autolabels)"
   ]
  },
  {
   "cell_type": "markdown",
   "metadata": {},
   "source": []
  },
  {
   "cell_type": "code",
   "execution_count": null,
   "metadata": {
    "scrolled": true
   },
   "outputs": [],
   "source": [
    "reward_init_kwargs = {\n",
    "    'n_rew_nets_in_ensemble': 4,\n",
    "    'n_layers': 1,\n",
    "    'layer_size': 256,\n",
    "    'scope': str(uuid.uuid4()),\n",
    "    'scope_file': os.path.join(utils.carracing_data_dir, 'true_rew_scope.pkl'),\n",
    "    'tf_file': os.path.join(utils.carracing_data_dir, 'true_rew.tf'),\n",
    "    'rew_func_input': \"s'\",\n",
    "    'use_discrete_rewards': True\n",
    "    }\n",
    "\n",
    "reward_train_kwargs = {\n",
    "    'demo_coeff': 1.,\n",
    "    'sketch_coeff': 1.,\n",
    "    'iterations': 5000,\n",
    "    'ftol': 1e-4,\n",
    "    'batch_size': 32,\n",
    "    'learning_rate': 1e-3,\n",
    "    'val_update_freq': 100,\n",
    "    'verbose': True\n",
    "    }"
   ]
  },
  {
   "cell_type": "code",
   "execution_count": null,
   "metadata": {
    "scrolled": true
   },
   "outputs": [],
   "source": [
    "data = envs.make_carracing_rew(\n",
    "    sess, \n",
    "    env, \n",
    "    sketch_data=sketch_data_for_reward_model,\n",
    "    reward_init_kwargs=reward_init_kwargs,\n",
    "    reward_train_kwargs=reward_train_kwargs\n",
    "    )"
   ]
  },
  {
   "cell_type": "code",
   "execution_count": null,
   "metadata": {},
   "outputs": [],
   "source": [
    "env.__dict__.update(data)"
   ]
  },
  {
   "cell_type": "code",
   "execution_count": null,
   "metadata": {},
   "outputs": [],
   "source": [
    "trans_env.__dict__.update(data)"
   ]
  },
  {
   "cell_type": "markdown",
   "metadata": {},
   "source": []
  },
  {
   "cell_type": "code",
   "execution_count": null,
   "metadata": {
    "colab": {},
    "colab_type": "code",
    "id": "8FcJ0RrTWRew",
    "scrolled": true
   },
   "outputs": [],
   "source": [
    "reward_model = RewardModel(\n",
    "    sess,\n",
    "    env,\n",
    "    n_rew_nets_in_ensemble=4,\n",
    "    n_layers=1,\n",
    "    layer_size=256,\n",
    "    scope=str(uuid.uuid4()),\n",
    "    scope_file=os.path.join(utils.carracing_data_dir, 'rew_scope.pkl'),\n",
    "    tf_file=os.path.join(utils.carracing_data_dir, 'rew.tf'),\n",
    "    rew_func_input=\"s'\",\n",
    "    use_discrete_rewards=True\n",
    "    )"
   ]
  },
  {
   "cell_type": "code",
   "execution_count": null,
   "metadata": {
    "colab": {
     "height": 802
    },
    "colab_type": "code",
    "executionInfo": {
     "elapsed": 14585,
     "status": "error",
     "timestamp": 1560277061008,
     "user": {
      "displayName": "Sid Reddy",
      "photoUrl": "",
      "userId": "00109661562254874883"
     },
     "user_tz": -60
    },
    "id": "6ZPNlaTjW2fU",
    "outputId": "26618c1a-b039-4529-e7fe-756463123f5f",
    "scrolled": true
   },
   "outputs": [],
   "source": [
    "reward_model.train(\n",
    "    demo_data=demo_data_for_reward_model,\n",
    "    sketch_data=sketch_data_for_reward_model,\n",
    "    pref_data=pref_data_for_reward_model,\n",
    "    demo_coeff=1.,\n",
    "    sketch_coeff=1.,\n",
    "    iterations=1500,\n",
    "    ftol=1e-4,\n",
    "    batch_size=32,\n",
    "    learning_rate=1e-3,\n",
    "    val_update_freq=100,\n",
    "    verbose=True\n",
    "    )"
   ]
  },
  {
   "cell_type": "code",
   "execution_count": null,
   "metadata": {
    "colab": {},
    "colab_type": "code",
    "id": "Cz_BYCPIJr5c",
    "scrolled": true
   },
   "outputs": [],
   "source": [
    "reward_model.save()"
   ]
  },
  {
   "cell_type": "code",
   "execution_count": null,
   "metadata": {
    "colab": {},
    "colab_type": "code",
    "id": "y9jvFBbAJr2W",
    "scrolled": true
   },
   "outputs": [],
   "source": [
    "reward_model.load()"
   ]
  },
  {
   "cell_type": "code",
   "execution_count": null,
   "metadata": {},
   "outputs": [],
   "source": [
    "reward_model.init_tf_vars()"
   ]
  },
  {
   "cell_type": "code",
   "execution_count": null,
   "metadata": {},
   "outputs": [],
   "source": [
    "reward_model.sketch_data = sketch_data_for_reward_model"
   ]
  },
  {
   "cell_type": "code",
   "execution_count": null,
   "metadata": {
    "scrolled": true
   },
   "outputs": [],
   "source": [
    "reward_model.viz_learned_rew()"
   ]
  },
  {
   "cell_type": "code",
   "execution_count": null,
   "metadata": {
    "scrolled": true
   },
   "outputs": [],
   "source": [
    "def plot_rew_mod_preds(traj, act_seq):\n",
    "  raws = reward_model.compute_raw_of_transes(traj[:-1, :], act_seq, traj[1:, :])\n",
    "  probs = np.exp(utils.normalize_logits(raws))\n",
    "  uncs = reward_model.compute_uncertainty_of_transes(traj[:-1, :], act_seq, traj[1:, :])\n",
    "  \n",
    "  for i in range(raws.shape[1]):\n",
    "    plt.plot(probs[:, i], label=str(env.rew_classes[i]))\n",
    "  plt.plot(uncs, label='unc')\n",
    "  plt.legend(loc='best')\n",
    "  plt.show()"
   ]
  },
  {
   "cell_type": "code",
   "execution_count": null,
   "metadata": {
    "scrolled": true
   },
   "outputs": [],
   "source": [
    "def integrate_accels(accels, min_vel=0, max_vel=1):\n",
    "  vel = 0\n",
    "  vels = []\n",
    "  for acc in accels:\n",
    "    vel += acc\n",
    "    vel = max(min_vel, vel)\n",
    "    vel = min(max_vel, vel)\n",
    "    vels.append(vel)\n",
    "  return vels\n",
    "  \n",
    "def plot_actions(act_seq):\n",
    "  accel = act_seq[:, 1] - act_seq[:, 2]\n",
    "  plt.plot(accel, label='accel')\n",
    "  plt.plot(integrate_accels(accel), label='vel')\n",
    "  plt.plot(act_seq[:, 0], label='steer')\n",
    "  plt.legend(loc='best')\n",
    "  plt.show()"
   ]
  },
  {
   "cell_type": "code",
   "execution_count": null,
   "metadata": {
    "scrolled": true
   },
   "outputs": [],
   "source": [
    "rollout_idx = 0\n",
    "raw_rollout = raw_demo_rollouts[rollout_idx]\n",
    "rollout = demo_rollouts[rollout_idx]\n",
    "raw_traj = utils.traj_of_rollout(raw_rollout)\n",
    "traj = utils.traj_of_rollout(rollout)\n",
    "act_seq = utils.act_seq_of_rollout(rollout)"
   ]
  },
  {
   "cell_type": "code",
   "execution_count": null,
   "metadata": {
    "scrolled": true
   },
   "outputs": [],
   "source": [
    "plot_rew_mod_preds(traj, act_seq)"
   ]
  },
  {
   "cell_type": "code",
   "execution_count": null,
   "metadata": {
    "scrolled": true
   },
   "outputs": [],
   "source": [
    "plot_actions(act_seq)"
   ]
  },
  {
   "cell_type": "code",
   "execution_count": null,
   "metadata": {
    "scrolled": false
   },
   "outputs": [],
   "source": [
    "plot_traj(traj, env, encoder)\n",
    "plot_traj(raw_traj, env)"
   ]
  },
  {
   "cell_type": "markdown",
   "metadata": {
    "colab_type": "text",
    "id": "0D9uLwsltKYc"
   },
   "source": []
  },
  {
   "cell_type": "code",
   "execution_count": null,
   "metadata": {
    "scrolled": true
   },
   "outputs": [],
   "source": [
    "traj_len = 50"
   ]
  },
  {
   "cell_type": "code",
   "execution_count": null,
   "metadata": {},
   "outputs": [],
   "source": [
    "traj_optimizer = GDTrajOptimizer(\n",
    "    sess,\n",
    "    env,\n",
    "    reward_model,\n",
    "    dynamics_model,         \n",
    "    traj_len=traj_len,\n",
    "    n_trajs=1,\n",
    "    prior_coeff=0,\n",
    "    diversity_coeff=0.,\n",
    "    #query_loss_opt='rew_uncertainty',\n",
    "    #query_loss_opt='max_rew',\n",
    "    query_loss_opt='min_rew',\n",
    "    #query_loss_opt='max_nov',\n",
    "    opt_init_obs=False,\n",
    "    join_trajs_at_init_state=False,\n",
    "    shoot_steps=None,\n",
    "    learning_rate=1e-2,\n",
    "    query_type='sketch',\n",
    "    using_mixact=False\n",
    "    )"
   ]
  },
  {
   "cell_type": "code",
   "execution_count": null,
   "metadata": {
    "scrolled": true
   },
   "outputs": [],
   "source": [
    "rollout_idx = -2\n",
    "t = 75\n",
    "assert t+traj_len-1 <= len(demo_rollouts[rollout_idx])\n",
    "rollout = demo_rollouts[rollout_idx][t:t+traj_len-1]\n",
    "init_traj = utils.traj_of_rollout(rollout)\n",
    "init_act_seq = utils.act_seq_of_rollout(rollout)"
   ]
  },
  {
   "cell_type": "code",
   "execution_count": null,
   "metadata": {},
   "outputs": [],
   "source": [
    "init_traj, init_act_seq = utils.rollout_in_dream(\n",
    "    env.expert_policy,\n",
    "    env, \n",
    "    dynamics_model, \n",
    "    init_obs=env.default_init_obs, \n",
    "    max_ep_len=(traj_len-1)\n",
    "    )"
   ]
  },
  {
   "cell_type": "code",
   "execution_count": null,
   "metadata": {
    "scrolled": true
   },
   "outputs": [],
   "source": [
    "utils.plot_trajs([init_traj], env, encoder)"
   ]
  },
  {
   "cell_type": "code",
   "execution_count": null,
   "metadata": {
    "scrolled": true
   },
   "outputs": [],
   "source": [
    "plot_actions(init_act_seq)"
   ]
  },
  {
   "cell_type": "code",
   "execution_count": null,
   "metadata": {
    "scrolled": true
   },
   "outputs": [],
   "source": [
    "plot_rew_mod_preds(init_traj, init_act_seq)"
   ]
  },
  {
   "cell_type": "code",
   "execution_count": null,
   "metadata": {
    "scrolled": true
   },
   "outputs": [],
   "source": [
    "init_act_seq = np.array([[0.2, 0.2, 0] for _ in range(traj_len - 1)])"
   ]
  },
  {
   "cell_type": "code",
   "execution_count": null,
   "metadata": {
    "scrolled": true
   },
   "outputs": [],
   "source": [
    "init_traj = None\n",
    "init_act_seq = None"
   ]
  },
  {
   "cell_type": "code",
   "execution_count": null,
   "metadata": {
    "colab": {
     "height": 1265
    },
    "colab_type": "code",
    "executionInfo": {
     "elapsed": 22033,
     "status": "ok",
     "timestamp": 1560277856337,
     "user": {
      "displayName": "Sid Reddy",
      "photoUrl": "",
      "userId": "00109661562254874883"
     },
     "user_tz": -60
    },
    "id": "sBwDoTQ1a0fB",
    "outputId": "a94452a0-6388-4d5a-ee9c-6d9de9ffb2a7",
    "scrolled": true
   },
   "outputs": [],
   "source": [
    "init_obs = env.default_init_obses[0] if init_traj is None else init_traj[0, :]\n",
    "data = traj_optimizer.run(\n",
    "    init_obs=init_obs,\n",
    "    #init_obs=None,\n",
    "    init_traj=init_traj,\n",
    "    init_act_seq=init_act_seq,\n",
    "    iterations=5000,\n",
    "    ftol=1e-4,\n",
    "    verbose=True,\n",
    "    warm_start=False,\n",
    "    init_with_lbfgs=False\n",
    "    )\n",
    "trajs = data['traj']\n",
    "act_seqs = data['act_seq']"
   ]
  },
  {
   "cell_type": "code",
   "execution_count": null,
   "metadata": {
    "scrolled": true
   },
   "outputs": [],
   "source": [
    "# DEBUG\n",
    "feed_dict = {traj_optimizer.init_obs_ph: init_obs}\n",
    "trajs, act_seqs = traj_optimizer.sess.run([traj_optimizer.trajs, traj_optimizer.act_seqs], feed_dict=feed_dict)"
   ]
  },
  {
   "cell_type": "code",
   "execution_count": null,
   "metadata": {
    "scrolled": true
   },
   "outputs": [],
   "source": [
    "utils.plot_trajs(trajs, env, encoder)"
   ]
  },
  {
   "cell_type": "code",
   "execution_count": null,
   "metadata": {
    "scrolled": true
   },
   "outputs": [],
   "source": [
    "plot_actions(act_seqs[0])"
   ]
  },
  {
   "cell_type": "code",
   "execution_count": null,
   "metadata": {
    "scrolled": true
   },
   "outputs": [],
   "source": [
    "plot_rew_mod_preds(trajs[0], act_seqs[0])"
   ]
  },
  {
   "cell_type": "markdown",
   "metadata": {},
   "source": []
  },
  {
   "cell_type": "code",
   "execution_count": null,
   "metadata": {
    "scrolled": true
   },
   "outputs": [],
   "source": [
    "offpol_eval_rollouts = aug_rollouts"
   ]
  },
  {
   "cell_type": "code",
   "execution_count": null,
   "metadata": {
    "colab": {
     "height": 183
    },
    "colab_type": "code",
    "executionInfo": {
     "elapsed": 406,
     "status": "ok",
     "timestamp": 1560278067673,
     "user": {
      "displayName": "Sid Reddy",
      "photoUrl": "",
      "userId": "00109661562254874883"
     },
     "user_tz": -60
    },
    "id": "FYNFUWC5pd1q",
    "outputId": "8e7b83c4-d585-4ac7-ec0d-122475a6736b",
    "scrolled": false
   },
   "outputs": [],
   "source": [
    "rew_eval = reward_models.evaluate_reward_model(\n",
    "    sess,\n",
    "    env,\n",
    "    trans_env,\n",
    "    reward_model, \n",
    "    dynamics_model, \n",
    "    n_eval_rollouts=5,\n",
    "    offpol_eval_rollouts=offpol_eval_rollouts,\n",
    "    imitation_kwargs={'plan_horizon': 20, 'n_blind_steps': 1}\n",
    "    )"
   ]
  },
  {
   "cell_type": "code",
   "execution_count": null,
   "metadata": {
    "scrolled": true
   },
   "outputs": [],
   "source": [
    "rew_eval['perf']"
   ]
  },
  {
   "cell_type": "code",
   "execution_count": null,
   "metadata": {
    "scrolled": true
   },
   "outputs": [],
   "source": [
    "imi_trajs = [utils.traj_of_rollout(rollout) for rollout in rew_eval['rollouts']]"
   ]
  },
  {
   "cell_type": "code",
   "execution_count": null,
   "metadata": {
    "scrolled": false
   },
   "outputs": [],
   "source": [
    "utils.plot_trajs(imi_trajs, env, encoder)"
   ]
  },
  {
   "cell_type": "code",
   "execution_count": null,
   "metadata": {},
   "outputs": [],
   "source": [
    "imi_act_seqs = [utils.act_seq_of_rollout(rollout) for rollout in rew_eval['rollouts']]"
   ]
  },
  {
   "cell_type": "code",
   "execution_count": null,
   "metadata": {},
   "outputs": [],
   "source": [
    "for act_seq in imi_act_seqs:\n",
    "  plot_actions(act_seq)"
   ]
  },
  {
   "cell_type": "code",
   "execution_count": null,
   "metadata": {},
   "outputs": [],
   "source": [
    "for traj, act_seq in zip(imi_trajs, imi_act_seqs):\n",
    "  plot_rew_mod_preds(traj, act_seq)"
   ]
  },
  {
   "cell_type": "code",
   "execution_count": null,
   "metadata": {},
   "outputs": [],
   "source": [
    "with open(os.path.join(utils.carracing_data_dir, 'opt_rew_eval.pkl'), 'wb') as f:\n",
    "  pickle.dump(rew_eval, f, pickle.HIGHEST_PROTOCOL)"
   ]
  },
  {
   "cell_type": "code",
   "execution_count": null,
   "metadata": {},
   "outputs": [],
   "source": [
    "with open(os.path.join(utils.carracing_data_dir, 'opt_rew_eval.pkl'), 'rb') as f:\n",
    "  opt_rew_eval = pickle.load(f)"
   ]
  },
  {
   "cell_type": "markdown",
   "metadata": {
    "colab_type": "text",
    "id": "kK4aoy9zlFXV"
   },
   "source": []
  },
  {
   "cell_type": "code",
   "execution_count": null,
   "metadata": {
    "colab": {},
    "colab_type": "code",
    "id": "jWHsGDV9krG_",
    "scrolled": false
   },
   "outputs": [],
   "source": [
    "traj_optimizer = StochTrajOptimizer(\n",
    "    sess,\n",
    "    env,\n",
    "    reward_model,\n",
    "    dynamics_model,\n",
    "    traj_len=1000,#env.max_ep_len+1,\n",
    "    rollout_len=1000,#env.max_ep_len,\n",
    "    #query_loss_opt='rew_uncertainty'\n",
    "    query_loss_opt='max_rew',\n",
    "    #query_loss_opt='min_rew',\n",
    "    #query_loss_opt='max_nov',\n",
    "    #query_loss_opt='unif',\n",
    "    use_rand_policy=False,\n",
    "    imitation_kwargs={'plan_horizon': 20, 'n_blind_steps': 1},\n",
    "    query_type='sketch',\n",
    "    guided_search=False\n",
    "    )"
   ]
  },
  {
   "cell_type": "code",
   "execution_count": null,
   "metadata": {
    "colab": {
     "height": 66920
    },
    "colab_type": "code",
    "executionInfo": {
     "elapsed": 2958,
     "status": "ok",
     "timestamp": 1560278591962,
     "user": {
      "displayName": "Sid Reddy",
      "photoUrl": "",
      "userId": "00109661562254874883"
     },
     "user_tz": -60
    },
    "id": "Nil04K74krC1",
    "outputId": "a932c7d8-7527-4ee4-f416-9b06b0e9a082",
    "scrolled": true
   },
   "outputs": [],
   "source": [
    "data = traj_optimizer.run(\n",
    "    n_trajs=1,\n",
    "    n_samples=1,\n",
    "    init_obs=None,\n",
    "    #init_obs=env.default_init_obs,\n",
    "    verbose=True\n",
    "    )\n",
    "trajs = data['traj']\n",
    "act_seqs = data['act_seq']"
   ]
  },
  {
   "cell_type": "code",
   "execution_count": null,
   "metadata": {
    "scrolled": true
   },
   "outputs": [],
   "source": [
    "utils.plot_trajs(trajs, env, encoder)"
   ]
  },
  {
   "cell_type": "code",
   "execution_count": null,
   "metadata": {
    "scrolled": false
   },
   "outputs": [],
   "source": [
    "plot_actions(act_seqs[0])"
   ]
  },
  {
   "cell_type": "code",
   "execution_count": null,
   "metadata": {
    "scrolled": true
   },
   "outputs": [],
   "source": [
    "plot_rew_mod_preds(trajs[0], act_seqs[0])"
   ]
  },
  {
   "cell_type": "markdown",
   "metadata": {
    "colab_type": "text",
    "id": "PQROLo_2szLW"
   },
   "source": []
  },
  {
   "cell_type": "code",
   "execution_count": null,
   "metadata": {},
   "outputs": [],
   "source": [
    "offpol_eval_rollouts = aug_rollouts"
   ]
  },
  {
   "cell_type": "code",
   "execution_count": null,
   "metadata": {},
   "outputs": [],
   "source": [
    "demo_rollouts_for_reward_model = None\n",
    "pref_logs_for_reward_model = None"
   ]
  },
  {
   "cell_type": "code",
   "execution_count": null,
   "metadata": {},
   "outputs": [],
   "source": [
    "sketch_rollouts_for_reward_model = demo_rollouts[:1]"
   ]
  },
  {
   "cell_type": "code",
   "execution_count": null,
   "metadata": {
    "scrolled": true
   },
   "outputs": [],
   "source": [
    "reward_model = RewardModel(\n",
    "    sess,\n",
    "    env,\n",
    "    n_rew_nets_in_ensemble=4,\n",
    "    n_layers=1,\n",
    "    layer_size=256,\n",
    "    scope=str(uuid.uuid4()),\n",
    "    scope_file=os.path.join(utils.carracing_data_dir, 'rew_scope.pkl'),\n",
    "    tf_file=os.path.join(utils.carracing_data_dir, 'rew.tf'),\n",
    "    rew_func_input=\"s'\",\n",
    "    use_discrete_rewards=True\n",
    "    )"
   ]
  },
  {
   "cell_type": "code",
   "execution_count": null,
   "metadata": {
    "scrolled": true
   },
   "outputs": [],
   "source": [
    "dynamics_model = load_wm_pretrained_rnn(encoder, sess, env)"
   ]
  },
  {
   "cell_type": "code",
   "execution_count": null,
   "metadata": {
    "scrolled": true
   },
   "outputs": [],
   "source": [
    "rew_optimizer = InteractiveRewardOptimizer(\n",
    "    sess,\n",
    "    env, \n",
    "    trans_env,\n",
    "    reward_model, \n",
    "    dynamics_model\n",
    "    )"
   ]
  },
  {
   "cell_type": "code",
   "execution_count": null,
   "metadata": {
    "scrolled": true
   },
   "outputs": [],
   "source": [
    "reward_train_kwargs = {\n",
    "    'demo_coeff': 1.,\n",
    "    'sketch_coeff': 1.,\n",
    "    'iterations': 1500,\n",
    "    'ftol': 1e-4,\n",
    "    'batch_size': 32,\n",
    "    'learning_rate': 1e-3,\n",
    "    'val_update_freq': 100,\n",
    "    'verbose': False\n",
    "    }\n",
    "\n",
    "dynamics_train_kwargs = {\n",
    "    'iterations': 1,\n",
    "    'batch_size': 512,\n",
    "    'learning_rate': 1e-3,\n",
    "    'ftol': 1e-4,\n",
    "    'val_update_freq': 100,\n",
    "    'verbose': False\n",
    "    }\n",
    "\n",
    "imitation_kwargs = {\n",
    "    'plan_horizon': 20,\n",
    "    'n_blind_steps': 1\n",
    "    }\n",
    "\n",
    "eval_kwargs = {\n",
    "    'n_eval_rollouts': 1,\n",
    "    'offpol_eval_rollouts': offpol_eval_rollouts\n",
    "    }"
   ]
  },
  {
   "cell_type": "code",
   "execution_count": null,
   "metadata": {},
   "outputs": [],
   "source": [
    "gd_traj_opt_init_kwargs = {        \n",
    "    'traj_len': 50,\n",
    "    'n_trajs': 1,\n",
    "    'prior_coeff': 0.,\n",
    "    'diversity_coeff': 0.,\n",
    "    'query_loss_opt': 'rew_uncertainty',\n",
    "    'opt_init_obs': False,\n",
    "    'learning_rate': 1e-2,\n",
    "    'join_trajs_at_init_state': False,\n",
    "    'shoot_steps': None,\n",
    "    'using_mixact': True\n",
    "    }\n",
    "\n",
    "gd_traj_opt_run_kwargs = {\n",
    "    'init_obs': env.default_init_obses,\n",
    "    'iterations': 5000,\n",
    "    'ftol': 1e-4,\n",
    "    'verbose': False\n",
    "    }\n",
    "\n",
    "query_loss_opts = ['rew_uncertainty', 'max_nov', 'max_rew', 'min_rew']\n",
    "\n",
    "traj_opt_init_kwargs = []\n",
    "for query_loss_opt in query_loss_opts:\n",
    "  kwargs = deepcopy(gd_traj_opt_init_kwargs)\n",
    "  kwargs['query_loss_opt'] = query_loss_opt\n",
    "  traj_opt_init_kwargs.append(kwargs)\n",
    "gd_traj_opt_init_kwargs = traj_opt_init_kwargs\n",
    "gd_traj_opt_run_kwargs = [gd_traj_opt_run_kwargs] * len(gd_traj_opt_init_kwargs)"
   ]
  },
  {
   "cell_type": "code",
   "execution_count": null,
   "metadata": {},
   "outputs": [],
   "source": [
    "stoch_traj_opt_init_kwargs = {        \n",
    "    'traj_len': env.max_ep_len+1,\n",
    "    'rollout_len': env.max_ep_len,\n",
    "    'query_loss_opt': 'unif',\n",
    "    'use_rand_policy': False,\n",
    "    'imitation_kwargs': imitation_kwargs\n",
    "    }\n",
    "\n",
    "rand_stoch_traj_opt_init_kwargs = deepcopy(stoch_traj_opt_init_kwargs)\n",
    "rand_stoch_traj_opt_init_kwargs['use_rand_policy'] = True\n",
    "\n",
    "stoch_traj_opt_run_kwargs = {\n",
    "    'n_samples': 1,\n",
    "    'n_trajs': 1,\n",
    "    'init_obs': None,\n",
    "    'verbose': False\n",
    "    }"
   ]
  },
  {
   "cell_type": "code",
   "execution_count": null,
   "metadata": {
    "scrolled": true
   },
   "outputs": [],
   "source": [
    "rew_opt_kwargs = {\n",
    "    'demo_rollouts': demo_rollouts_for_reward_model,\n",
    "    'sketch_rollouts': sketch_rollouts_for_reward_model,\n",
    "    'pref_logs': pref_logs_for_reward_model,\n",
    "    'rollouts_for_dyn': [],#aug_rollouts,\n",
    "    'reward_train_kwargs': reward_train_kwargs,\n",
    "    'dynamics_train_kwargs': dynamics_train_kwargs,\n",
    "    'imitation_kwargs': imitation_kwargs,\n",
    "    'eval_kwargs': eval_kwargs,\n",
    "    'init_train_dyn': False,\n",
    "    'init_train_rew': True,\n",
    "    'n_imitation_rollouts_per_dyn_update': 1,\n",
    "    'n_queries': 10000,\n",
    "    'reward_update_freq': 1,\n",
    "    'reward_eval_freq': 5,\n",
    "    'dyn_update_freq': None,\n",
    "    'verbose': False,\n",
    "    'warm_start_rew': False,\n",
    "    'query_type': 'sketch'\n",
    "    }"
   ]
  },
  {
   "cell_type": "code",
   "execution_count": null,
   "metadata": {
    "scrolled": false
   },
   "outputs": [],
   "source": [
    "rew_perf_evals, query_data = rew_optimizer.run(\n",
    "    traj_opt_cls=StochTrajOptimizer,\n",
    "    traj_opt_run_kwargs=stoch_traj_opt_run_kwargs,\n",
    "    traj_opt_init_kwargs=stoch_traj_opt_init_kwargs,\n",
    "    **rew_opt_kwargs\n",
    "    )"
   ]
  },
  {
   "cell_type": "code",
   "execution_count": null,
   "metadata": {
    "scrolled": true
   },
   "outputs": [],
   "source": [
    "rew_perf_evals = rew_optimizer.rew_perf_evals\n",
    "query_data = rew_optimizer.query_data"
   ]
  },
  {
   "cell_type": "code",
   "execution_count": null,
   "metadata": {
    "scrolled": true
   },
   "outputs": [],
   "source": [
    "plt.plot(rew_perf_evals['n_queries'], rew_perf_evals['corr'])\n",
    "plt.show()"
   ]
  },
  {
   "cell_type": "markdown",
   "metadata": {},
   "source": []
  },
  {
   "cell_type": "code",
   "execution_count": null,
   "metadata": {},
   "outputs": [],
   "source": [
    "def make_eval_func(conf_key):\n",
    "  def eval_func(conf_val):\n",
    "    if conf_key == 'prior_coeff':\n",
    "      traj_opt_init_kwargs = deepcopy(gd_traj_opt_init_kwargs)\n",
    "      for i in range(len(traj_opt_init_kwargs)):\n",
    "        traj_opt_init_kwargs[i][conf_key] = conf_val\n",
    "    elif conf_key == 'query_loss_opt':\n",
    "      traj_opt_init_kwargs = [kwargs for kwargs in gd_traj_opt_init_kwargs if kwargs['query_loss_opt'] != conf_val]\n",
    "    return rew_optimizer.run(\n",
    "      traj_opt_cls=GDTrajOptimizer,\n",
    "      traj_opt_run_kwargs=gd_traj_opt_run_kwargs,\n",
    "      traj_opt_init_kwargs=traj_opt_init_kwargs,\n",
    "      **rew_opt_kwargs\n",
    "      )\n",
    "  return eval_func\n",
    "\n",
    "eval_prior_coeff = make_eval_func('prior_coeff')\n",
    "eval_query_loss = make_eval_func('query_loss_opt')"
   ]
  },
  {
   "cell_type": "code",
   "execution_count": null,
   "metadata": {},
   "outputs": [],
   "source": [
    "n_trials = 3"
   ]
  },
  {
   "cell_type": "code",
   "execution_count": null,
   "metadata": {},
   "outputs": [],
   "source": [
    "prior_coeffs = [np.inf, 0., 1., 1e-1, 1e-2, 10.]"
   ]
  },
  {
   "cell_type": "code",
   "execution_count": null,
   "metadata": {
    "scrolled": false
   },
   "outputs": [],
   "source": [
    "prior_coeff_evals = []\n",
    "for prior_coeff in prior_coeffs:\n",
    "  prior_coeff_evals.append([])\n",
    "  for i in range(n_trials):\n",
    "    print('%f %d' % (prior_coeff, i))\n",
    "    prior_coeff_evals[-1].append(eval_prior_coeff(prior_coeff))"
   ]
  },
  {
   "cell_type": "code",
   "execution_count": null,
   "metadata": {},
   "outputs": [],
   "source": [
    "prior_coeff_eval_data = {\n",
    "    'prior_coeffs': prior_coeffs,\n",
    "    'prior_coeff_evals': prior_coeff_evals\n",
    "    }"
   ]
  },
  {
   "cell_type": "code",
   "execution_count": null,
   "metadata": {},
   "outputs": [],
   "source": [
    "with open(os.path.join(utils.carracing_data_dir, 'prior_coeff_eval_data.pkl'), 'wb') as f:\n",
    "  pickle.dump(prior_coeff_eval_data, f, pickle.HIGHEST_PROTOCOL)"
   ]
  },
  {
   "cell_type": "code",
   "execution_count": null,
   "metadata": {},
   "outputs": [],
   "source": [
    "with open(os.path.join(utils.carracing_data_dir, 'prior_coeff_eval_data.pkl'), 'rb') as f:\n",
    "  prior_coeff_eval_data = pickle.load(f)"
   ]
  },
  {
   "cell_type": "code",
   "execution_count": null,
   "metadata": {},
   "outputs": [],
   "source": [
    "globals().update(prior_coeff_eval_data)"
   ]
  },
  {
   "cell_type": "code",
   "execution_count": null,
   "metadata": {},
   "outputs": [],
   "source": [
    "query_loss_opts = ['rew_uncertainty', 'max_nov', 'max_rew', 'min_rew']"
   ]
  },
  {
   "cell_type": "code",
   "execution_count": null,
   "metadata": {},
   "outputs": [],
   "source": [
    "query_loss_evals = []\n",
    "for query_loss_opt in query_loss_opts:\n",
    "  query_loss_evals.append([])\n",
    "  for i in range(n_trials):\n",
    "    print('%s %d' % (query_loss_opt, i))\n",
    "    query_loss_evals[-1].append(eval_query_loss(query_loss_opt))"
   ]
  },
  {
   "cell_type": "code",
   "execution_count": null,
   "metadata": {},
   "outputs": [],
   "source": [
    "query_loss_eval_data = {\n",
    "    'query_loss_opts': query_loss_opts,\n",
    "    'query_loss_evals': query_loss_evals\n",
    "    }"
   ]
  },
  {
   "cell_type": "code",
   "execution_count": null,
   "metadata": {},
   "outputs": [],
   "source": [
    "with open(os.path.join(utils.carracing_data_dir, 'query_loss_eval_data.pkl'), 'wb') as f:\n",
    "  pickle.dump(query_loss_eval_data, f, pickle.HIGHEST_PROTOCOL)"
   ]
  },
  {
   "cell_type": "code",
   "execution_count": null,
   "metadata": {},
   "outputs": [],
   "source": [
    "with open(os.path.join(utils.carracing_data_dir, 'query_loss_eval_data.pkl'), 'rb') as f:\n",
    "  query_loss_eval_data = pickle.load(f)"
   ]
  },
  {
   "cell_type": "code",
   "execution_count": null,
   "metadata": {},
   "outputs": [],
   "source": [
    "globals().update(query_loss_eval_data)"
   ]
  },
  {
   "cell_type": "code",
   "execution_count": null,
   "metadata": {},
   "outputs": [],
   "source": [
    "compute_stoch_eval = lambda: rew_optimizer.run(\n",
    "  traj_opt_cls=StochTrajOptimizer,\n",
    "  traj_opt_run_kwargs=stoch_traj_opt_run_kwargs,\n",
    "  traj_opt_init_kwargs=stoch_traj_opt_init_kwargs,\n",
    "  **rew_opt_kwargs\n",
    "  )"
   ]
  },
  {
   "cell_type": "code",
   "execution_count": null,
   "metadata": {},
   "outputs": [],
   "source": [
    "stoch_evals = [compute_stoch_eval() for _ in range(n_trials)]"
   ]
  },
  {
   "cell_type": "code",
   "execution_count": null,
   "metadata": {},
   "outputs": [],
   "source": [
    "with open(os.path.join(utils.carracing_data_dir, 'stoch_evals.pkl'), 'wb') as f:\n",
    "  pickle.dump(stoch_evals, f, pickle.HIGHEST_PROTOCOL)"
   ]
  },
  {
   "cell_type": "code",
   "execution_count": null,
   "metadata": {},
   "outputs": [],
   "source": [
    "with open(os.path.join(utils.carracing_data_dir, 'stoch_evals.pkl'), 'rb') as f:\n",
    "  stoch_evals = pickle.load(f)"
   ]
  },
  {
   "cell_type": "code",
   "execution_count": null,
   "metadata": {},
   "outputs": [],
   "source": [
    "stoch_perf_eval = list(zip(*stoch_evals))[0]"
   ]
  },
  {
   "cell_type": "code",
   "execution_count": null,
   "metadata": {},
   "outputs": [],
   "source": [
    "compute_rand_stoch_eval = lambda: rew_optimizer.run(\n",
    "  traj_opt_cls=StochTrajOptimizer,\n",
    "  traj_opt_run_kwargs=stoch_traj_opt_run_kwargs,\n",
    "  traj_opt_init_kwargs=rand_stoch_traj_opt_init_kwargs,\n",
    "  **rew_opt_kwargs\n",
    "  )"
   ]
  },
  {
   "cell_type": "code",
   "execution_count": null,
   "metadata": {},
   "outputs": [],
   "source": [
    "rand_stoch_evals = [compute_rand_stoch_eval() for _ in range(n_trials)]"
   ]
  },
  {
   "cell_type": "code",
   "execution_count": null,
   "metadata": {},
   "outputs": [],
   "source": [
    "with open(os.path.join(utils.carracing_data_dir, 'rand_stoch_evals.pkl'), 'wb') as f:\n",
    "  pickle.dump(rand_stoch_evals, f, pickle.HIGHEST_PROTOCOL)"
   ]
  },
  {
   "cell_type": "code",
   "execution_count": null,
   "metadata": {},
   "outputs": [],
   "source": [
    "with open(os.path.join(utils.carracing_data_dir, 'rand_stoch_evals.pkl'), 'rb') as f:\n",
    "  rand_stoch_evals = pickle.load(f)"
   ]
  },
  {
   "cell_type": "markdown",
   "metadata": {},
   "source": []
  },
  {
   "cell_type": "code",
   "execution_count": null,
   "metadata": {},
   "outputs": [],
   "source": [
    "cloud_dir = os.path.join(utils.carracing_data_dir, 'cloud')"
   ]
  },
  {
   "cell_type": "code",
   "execution_count": null,
   "metadata": {},
   "outputs": [],
   "source": [
    "prior_coeff_evals = [[None for _ in range(n_trials)] for _ in prior_coeffs]\n",
    "query_loss_evals = [[None for _ in range(n_trials)] for _ in query_loss_opts]\n",
    "stoch_evals = [None for _ in range(n_trials)]\n",
    "rand_stoch_evals = [None for _ in range(n_trials)]\n",
    "unif_evals = [None for _ in range(n_trials)]\n",
    "for fname in os.listdir(cloud_dir):\n",
    "  if fname.endswith('.pkl'):\n",
    "    with open(os.path.join(cloud_dir, fname), 'rb') as f:\n",
    "      conf, result = pickle.load(f)\n",
    "      \n",
    "      if conf[0] in prior_coeffs:\n",
    "        trial_idx = conf[1]\n",
    "        if conf[0] == 0:\n",
    "          if trial_idx < n_trials:\n",
    "            continue\n",
    "          else:\n",
    "            trial_idx -= n_trials\n",
    "        prior_coeff_evals[prior_coeffs.index(conf[0])][trial_idx] = result\n",
    "      elif conf[0] in query_loss_opts:\n",
    "        query_loss_evals[query_loss_opts.index(conf[0])][conf[1]] = result\n",
    "      elif conf[0] == 'stoch':\n",
    "        stoch_evals[conf[1]] = result\n",
    "      elif conf[0] == 'rand_stoch':\n",
    "        rand_stoch_evals[conf[1]] = result\n",
    "      elif conf[0] == 'unif':\n",
    "        unif_evals[conf[1]] = result\n",
    "      else:\n",
    "        raise ValueError"
   ]
  },
  {
   "cell_type": "code",
   "execution_count": null,
   "metadata": {},
   "outputs": [],
   "source": [
    "prior_coeff_evals = [[x for x in y if x is not None] for y in prior_coeff_evals]\n",
    "query_loss_evals = [[x for x in y if x is not None] for y in query_loss_evals]"
   ]
  },
  {
   "cell_type": "code",
   "execution_count": null,
   "metadata": {},
   "outputs": [],
   "source": [
    "prior_coeffs, prior_coeff_evals = list(zip(*sorted(list(zip(prior_coeffs, prior_coeff_evals)), key=lambda x: x[0])))"
   ]
  },
  {
   "cell_type": "markdown",
   "metadata": {},
   "source": []
  },
  {
   "cell_type": "code",
   "execution_count": null,
   "metadata": {},
   "outputs": [],
   "source": [
    "stoch_perf_eval = list(zip(*stoch_evals))[0]\n",
    "rand_stoch_perf_eval = list(zip(*rand_stoch_evals))[0]\n",
    "unif_perf_eval = list(zip(*unif_evals))[0]"
   ]
  },
  {
   "cell_type": "code",
   "execution_count": null,
   "metadata": {},
   "outputs": [],
   "source": [
    "print('\\n'.join(list(zip(*prior_coeff_evals[0]))[0][0].keys()))"
   ]
  },
  {
   "cell_type": "code",
   "execution_count": null,
   "metadata": {},
   "outputs": [],
   "source": [
    "label_of_key = {\n",
    "    'rew': 'Reward',\n",
    "    'succ': 'Success Rate',\n",
    "    'crash': 'Crash Rate',\n",
    "    'rolloutlen': 'Trajectory Length',\n",
    "    'ens_unc': 'Ensemble Uncertainty',\n",
    "    'xent': 'Cross-Entropy',\n",
    "    'ent': 'Entropy',\n",
    "    'acc': 'Classification Accuracy',\n",
    "    'tpr': 'True Positive Rate',\n",
    "    'tnr': 'True Negative Rate',\n",
    "    'fpr': 'False Positive Rate',\n",
    "    'fnr': 'False Negative Rate',\n",
    "    'n_queries': 'Number of Queries'\n",
    "    }"
   ]
  },
  {
   "cell_type": "code",
   "execution_count": null,
   "metadata": {},
   "outputs": [],
   "source": [
    "plt.rcParams.update({'font.size': 14})"
   ]
  },
  {
   "cell_type": "code",
   "execution_count": null,
   "metadata": {},
   "outputs": [],
   "source": [
    "x_key = 'n_queries'\n",
    "best_prior_coeff_idx = -1"
   ]
  },
  {
   "cell_type": "code",
   "execution_count": null,
   "metadata": {},
   "outputs": [],
   "source": [
    "def plot_baseline_comp(y_key, fig_num):\n",
    "  smooth_win = 5\n",
    "  \n",
    "  plt.title('Car Racing')\n",
    "\n",
    "  plt.xlabel(label_of_key.get(x_key, x_key))\n",
    "  plt.ylabel(label_of_key.get(y_key, y_key))\n",
    "\n",
    "  plt.axhline(\n",
    "      y=opt_rew_eval['perf'][y_key], \n",
    "      linestyle=':', \n",
    "      label='Offline Reward Model', \n",
    "      color='green',\n",
    "      linewidth=3\n",
    "      )\n",
    "  \n",
    "  utils.plot_perf_evals(\n",
    "      rand_stoch_perf_eval, \n",
    "      x_key, \n",
    "      y_key, \n",
    "      label='Random Trajectories (Baseline)', \n",
    "      smooth_win=smooth_win, \n",
    "      color='teal'\n",
    "      )\n",
    "\n",
    "  utils.plot_perf_evals(\n",
    "      stoch_perf_eval, \n",
    "      x_key, \n",
    "      y_key, \n",
    "      label='Reward-Maximizing Trajectories (Baseline)', \n",
    "      smooth_win=smooth_win, \n",
    "      color='gray'\n",
    "      )\n",
    "  \n",
    "  prior_coeff_idx = best_prior_coeff_idx\n",
    "  prior_coeff = prior_coeffs[prior_coeff_idx]\n",
    "  evals = prior_coeff_evals[prior_coeff_idx]\n",
    "  perf_evals = list(zip(*evals))[0]\n",
    "  utils.plot_perf_evals(\n",
    "      perf_evals, \n",
    "      x_key, \n",
    "      y_key, \n",
    "      label='ReQueST (Ours)', \n",
    "      smooth_win=smooth_win, \n",
    "      color='orange'\n",
    "      )\n",
    "\n",
    "  plt.legend(loc='lower center', bbox_to_anchor=(0.5, -0.7), framealpha=0.)\n",
    "\n",
    "  plt.savefig(\n",
    "      os.path.join(utils.carracing_data_dir, 'figures', 'carracing-%d.pdf' % fig_num), \n",
    "      dpi=500, \n",
    "      bbox_inches='tight',\n",
    "      transparent=True\n",
    "      )\n",
    "  plt.show()"
   ]
  },
  {
   "cell_type": "code",
   "execution_count": null,
   "metadata": {},
   "outputs": [],
   "source": [
    "plot_baseline_comp('fpr', 1)"
   ]
  },
  {
   "cell_type": "code",
   "execution_count": null,
   "metadata": {},
   "outputs": [],
   "source": [
    "plot_baseline_comp('tnr', 2)"
   ]
  },
  {
   "cell_type": "code",
   "execution_count": null,
   "metadata": {},
   "outputs": [],
   "source": [
    "plot_baseline_comp('fnr', 3)"
   ]
  },
  {
   "cell_type": "code",
   "execution_count": null,
   "metadata": {},
   "outputs": [],
   "source": [
    "y_key = 'rew'"
   ]
  },
  {
   "cell_type": "code",
   "execution_count": null,
   "metadata": {},
   "outputs": [],
   "source": [
    "smooth_win = 5\n",
    "\n",
    "plt.title('Car Racing')\n",
    "\n",
    "plt.xlabel(label_of_key.get(x_key, x_key))\n",
    "plt.ylabel(label_of_key.get(y_key, y_key))\n",
    "\n",
    "plt.axhline(\n",
    "    y=opt_rew_eval['perf'][y_key], \n",
    "    linestyle=':', \n",
    "    label='Offline Reward Model', \n",
    "    color='green',\n",
    "    linewidth=3\n",
    "    )\n",
    "\n",
    "plt.axhline(\n",
    "    y=rand_perf[y_key], \n",
    "    linestyle=':', \n",
    "    label='Random Policy (Baseline)', \n",
    "    color='gray',\n",
    "    linewidth=3\n",
    "    )\n",
    "\n",
    "utils.plot_perf_evals(\n",
    "    rand_stoch_perf_eval, \n",
    "    x_key, \n",
    "    y_key, \n",
    "    label='Random Trajectories (Baseline)', \n",
    "    smooth_win=smooth_win, \n",
    "    color='teal'\n",
    "    )\n",
    "\n",
    "utils.plot_perf_evals(\n",
    "    stoch_perf_eval, \n",
    "    x_key, \n",
    "    y_key, \n",
    "    label='Reward-Maximizing Trajectories (Baseline)', \n",
    "    smooth_win=smooth_win, \n",
    "    color='gray'\n",
    "    )\n",
    "\n",
    "if y_key in demo_perf:\n",
    "  plt.axhline(\n",
    "      y=np.mean(demo_perf[y_key]), \n",
    "      linestyle='--', \n",
    "      label='Demonstrations (Baseline)', \n",
    "      color='gray',\n",
    "      linewidth=3\n",
    "      )\n",
    "  \n",
    "prior_coeff_idx = best_prior_coeff_idx\n",
    "prior_coeff = prior_coeffs[prior_coeff_idx]\n",
    "evals = prior_coeff_evals[prior_coeff_idx]\n",
    "perf_evals = list(zip(*evals))[0]\n",
    "utils.plot_perf_evals(\n",
    "    perf_evals, \n",
    "    x_key, \n",
    "    y_key, \n",
    "    label='ReQueST (Ours)', \n",
    "    smooth_win=smooth_win, \n",
    "    color='orange'\n",
    "    )\n",
    "\n",
    "plt.legend(loc='lower center', bbox_to_anchor=(0.5, -0.9), framealpha=0., ncol=1)\n",
    "\n",
    "plt.savefig(\n",
    "    os.path.join(utils.carracing_data_dir, 'figures', 'carracing-4.pdf'), \n",
    "    dpi=500, \n",
    "    bbox_inches='tight',\n",
    "    transparent=True\n",
    "    )\n",
    "plt.show()"
   ]
  },
  {
   "cell_type": "code",
   "execution_count": null,
   "metadata": {},
   "outputs": [],
   "source": [
    "smooth_win = 5\n",
    "\n",
    "y_key = 'rew'\n",
    "\n",
    "plt.title('Car Racing')\n",
    "\n",
    "plt.xlabel(label_of_key.get(x_key, x_key))\n",
    "plt.ylabel(label_of_key.get(y_key, y_key))\n",
    "\n",
    "plt.axhline(\n",
    "    y=opt_rew_eval['perf'][y_key], \n",
    "    linestyle=':', \n",
    "    label='Offline Reward Model', \n",
    "    color='green',\n",
    "    linewidth=3\n",
    "    )\n",
    "\n",
    "plt.axhline(\n",
    "    y=rand_perf[y_key], \n",
    "    linestyle=':', \n",
    "    label='Random Policy (Baseline)', \n",
    "    color='gray',\n",
    "    linewidth=3\n",
    "    )\n",
    "\n",
    "if y_key in demo_perf:\n",
    "  plt.axhline(\n",
    "      y=np.mean(demo_perf[y_key]), \n",
    "      linestyle='--', \n",
    "      label='Demonstrations (Baseline)', \n",
    "      color='gray',\n",
    "      linewidth=3\n",
    "      )\n",
    "\n",
    "prior_coeff_idx = best_prior_coeff_idx\n",
    "prior_coeff = prior_coeffs[prior_coeff_idx]\n",
    "evals = prior_coeff_evals[prior_coeff_idx]\n",
    "perf_evals = list(zip(*evals))[0]\n",
    "utils.plot_perf_evals(\n",
    "    perf_evals, \n",
    "    x_key, \n",
    "    y_key, \n",
    "    label='ReQueST (Ours)', \n",
    "    smooth_win=smooth_win, \n",
    "    color='orange'\n",
    "    )\n",
    "\n",
    "plt.legend(loc='lower center', bbox_to_anchor=(0.5, -0.7), framealpha=0., ncol=1)\n",
    "\n",
    "plt.savefig(\n",
    "    os.path.join(utils.carracing_data_dir, 'figures', 'carracing-5.pdf'), \n",
    "    dpi=500, \n",
    "    bbox_inches='tight',\n",
    "    transparent=True\n",
    "    )\n",
    "\n",
    "plt.show()"
   ]
  },
  {
   "cell_type": "code",
   "execution_count": null,
   "metadata": {},
   "outputs": [],
   "source": [
    "smooth_win = 5\n",
    "\n",
    "y_key = 'rew'\n",
    "\n",
    "plt.title('Car Racing')\n",
    "\n",
    "plt.xlabel(label_of_key.get(x_key, x_key))\n",
    "plt.ylabel(label_of_key.get(y_key, y_key))\n",
    "\n",
    "plt.axhline(\n",
    "    y=opt_rew_eval['perf'][y_key], \n",
    "    linestyle=':', \n",
    "    label='Offline Reward Model', \n",
    "    color='green',\n",
    "    linewidth=3\n",
    "    )\n",
    "\n",
    "plt.axhline(\n",
    "    y=rand_perf[y_key], \n",
    "    linestyle=':', \n",
    "    label='Random Policy (Baseline)', \n",
    "    color='gray',\n",
    "    linewidth=3\n",
    "    )\n",
    "\n",
    "colors = [\n",
    "    'blue',\n",
    "    'lightblue',\n",
    "    'gray',\n",
    "    'yellow',\n",
    "    'orange',\n",
    "    'red'\n",
    "    ]\n",
    "assert len(colors) == len(prior_coeffs)\n",
    "\n",
    "for prior_coeff, evals, color in zip(prior_coeffs, prior_coeff_evals, colors):\n",
    "  perf_evals = list(zip(*evals))[0]\n",
    "  label = '$\\lambda = $ %0.2f' % prior_coeff\n",
    "  label = label.replace('inf', '$\\infty$')\n",
    "  utils.plot_perf_evals(\n",
    "      perf_evals, \n",
    "      x_key, \n",
    "      y_key, \n",
    "      label=label, \n",
    "      smooth_win=smooth_win, \n",
    "      color=color\n",
    "      )\n",
    "\n",
    "plt.legend(loc='lower center', bbox_to_anchor=(0.5, -0.7), framealpha=0., ncol=2)\n",
    "\n",
    "plt.savefig(\n",
    "    os.path.join(utils.carracing_data_dir, 'figures', 'carracing-6.pdf'), \n",
    "    dpi=500, \n",
    "    bbox_inches='tight', \n",
    "    transparent=True\n",
    "    )\n",
    "plt.show()"
   ]
  },
  {
   "cell_type": "code",
   "execution_count": null,
   "metadata": {},
   "outputs": [],
   "source": [
    "def compute_best_perf(evals, y_key):\n",
    "  perf_evals = list(zip(*evals))[0]\n",
    "  mat = utils.make_perf_mat(perf_evals, y_key)\n",
    "  means = utils.col_means(mat)\n",
    "  stderrs = utils.col_stderrs(mat)\n",
    "  if y_key in ['rew', 'succ', 'tpr', 'tnr', 'acc']:\n",
    "    idx = np.argmax(means)\n",
    "  elif y_key in ['crash', 'fnr', 'fpr', 'rolloutlen', 'xent']:\n",
    "    idx = np.argmin(means)\n",
    "  else:\n",
    "    raise ValueError\n",
    "  return means[idx], stderrs[idx]"
   ]
  },
  {
   "cell_type": "code",
   "execution_count": null,
   "metadata": {},
   "outputs": [],
   "source": [
    "best_perfs = []\n",
    "for prior_coeff, evals in zip(prior_coeffs, prior_coeff_evals):\n",
    "  best_perfs.append((prior_coeff, *compute_best_perf(evals, y_key)))\n",
    "best_perfs = sorted(best_perfs, key=lambda x: x[0])\n",
    "\n",
    "best_rand_stoch_perf = compute_best_perf(rand_stoch_evals, y_key)\n",
    "best_stoch_perf = compute_best_perf(stoch_evals, y_key)"
   ]
  },
  {
   "cell_type": "code",
   "execution_count": null,
   "metadata": {},
   "outputs": [],
   "source": [
    "y_key = 'rew'\n",
    "\n",
    "plt.title('Car Racing')\n",
    "\n",
    "plt.xlabel('Regularization Constant $\\lambda$')\n",
    "plt.ylabel(label_of_key.get(y_key, y_key))\n",
    "\n",
    "plt.axhline(\n",
    "    y=opt_rew_eval['perf'][y_key], \n",
    "    linestyle=':', \n",
    "    label='Offline Reward Model', \n",
    "    color='green',\n",
    "    linewidth=3\n",
    "    )\n",
    "\n",
    "plt.axhline(\n",
    "    y=rand_perf['rew'], \n",
    "    linestyle=':', \n",
    "    label='Random Policy (Baseline)', \n",
    "    color='gray',\n",
    "    linewidth=3\n",
    "    )\n",
    "\n",
    "xs, ys, yerrs = list(zip(*best_perfs))\n",
    "\n",
    "xs = list(xs)\n",
    "xs[-1] = 100\n",
    "\n",
    "plt.errorbar(\n",
    "    xs,\n",
    "    y=ys,\n",
    "    yerr=yerrs,\n",
    "    marker='o',\n",
    "    color='orange',\n",
    "    label='ReQueST (Ours)',\n",
    "    capsize=5,\n",
    "    linestyle=''\n",
    "    )\n",
    "\n",
    "plt.xscale('symlog', linthreshx=1e-2)\n",
    "\n",
    "old_xs = deepcopy(xs)\n",
    "xs = [str(x) for x in xs]\n",
    "xs[-1] = '$\\infty$'\n",
    "plt.xticks(old_xs, xs)\n",
    "\n",
    "plt.legend(loc='lower center', bbox_to_anchor=(0.5, -0.6), framealpha=0., ncol=1)\n",
    "\n",
    "plt.savefig(\n",
    "    os.path.join(utils.carracing_data_dir, 'figures', 'carracing-7.pdf'), \n",
    "    dpi=500, \n",
    "    bbox_inches='tight',\n",
    "    transparent=True\n",
    "    )\n",
    "\n",
    "plt.show()"
   ]
  },
  {
   "cell_type": "code",
   "execution_count": null,
   "metadata": {},
   "outputs": [],
   "source": [
    "label_of_acq_func = {\n",
    "  'min_rew': 'Min. Reward',\n",
    "  'max_rew': 'Max. Reward',\n",
    "  'max_nov': 'Max. Novelty',\n",
    "  'rew_uncertainty': 'Max. Uncertainty'\n",
    "}"
   ]
  },
  {
   "cell_type": "code",
   "execution_count": null,
   "metadata": {},
   "outputs": [],
   "source": [
    "smooth_win = 5\n",
    "\n",
    "y_key = 'rew'\n",
    "\n",
    "plt.title('Car Racing')\n",
    "\n",
    "plt.xlabel(label_of_key.get(x_key, x_key))\n",
    "plt.ylabel(label_of_key.get(y_key, y_key))\n",
    "\n",
    "plt.axhline(\n",
    "    y=opt_rew_eval['perf'][y_key], \n",
    "    linestyle=':', \n",
    "    label='Offline Reward Model', \n",
    "    color='green',\n",
    "    linewidth=3\n",
    "    )\n",
    "\n",
    "plt.axhline(\n",
    "    y=rand_perf['rew'], \n",
    "    linestyle=':', \n",
    "    label='Random Policy (Baseline)', \n",
    "    color='gray',\n",
    "    linewidth=3\n",
    "    )\n",
    "\n",
    "prior_coeff_idx = best_prior_coeff_idx\n",
    "perf_evals = list(zip(*prior_coeff_evals[prior_coeff_idx]))[0]\n",
    "utils.plot_perf_evals(\n",
    "    perf_evals, \n",
    "    x_key, \n",
    "    y_key, \n",
    "    label='All Acquisition Functions', \n",
    "    smooth_win=smooth_win,\n",
    "    color='orange',\n",
    "    )\n",
    "\n",
    "colors = [\n",
    "    'teal',\n",
    "    'gray',\n",
    "    'pink',\n",
    "    'red'\n",
    "    ]\n",
    "assert len(colors) == len(query_loss_opts)\n",
    "\n",
    "for query_loss_opt, evals, color in zip(query_loss_opts, query_loss_evals, colors):\n",
    "  perf_evals = list(zip(*evals))[0]\n",
    "  utils.plot_perf_evals(\n",
    "      perf_evals, \n",
    "      x_key, \n",
    "      y_key, \n",
    "      label='All - %s' % label_of_acq_func.get(query_loss_opt, query_loss_opt), \n",
    "      smooth_win=smooth_win,\n",
    "      color=color\n",
    "      )\n",
    "  \n",
    "plt.legend(loc='lower center', bbox_to_anchor=(0.5, -0.7), framealpha=0., ncol=2)\n",
    "\n",
    "plt.savefig(\n",
    "    os.path.join(utils.carracing_data_dir, 'figures', 'carracing-8.pdf'), \n",
    "    dpi=500, \n",
    "    bbox_inches='tight',\n",
    "    transparent=True\n",
    "    )\n",
    "\n",
    "plt.show()"
   ]
  },
  {
   "cell_type": "code",
   "execution_count": null,
   "metadata": {},
   "outputs": [],
   "source": [
    "smooth_win = 5\n",
    "\n",
    "y_key = 'rew'\n",
    "\n",
    "plt.title('Car Racing')\n",
    "\n",
    "plt.xlabel(label_of_key.get(x_key, x_key))\n",
    "plt.ylabel(label_of_key.get(y_key, y_key))\n",
    "\n",
    "plt.axhline(\n",
    "    y=opt_rew_eval['perf'][y_key], \n",
    "    linestyle=':', \n",
    "    label='Offline Reward Model', \n",
    "    color='green',\n",
    "    linewidth=3\n",
    "    )\n",
    "\n",
    "plt.axhline(\n",
    "    y=rand_perf[y_key], \n",
    "    linestyle=':', \n",
    "    label='Random Policy (Baseline)', \n",
    "    color='gray',\n",
    "    linewidth=3\n",
    "    )\n",
    "\n",
    "utils.plot_perf_evals(\n",
    "    unif_perf_eval, \n",
    "    x_key, \n",
    "    y_key, \n",
    "    label='Random Trajectories from Dynamics Model (Baseline)', \n",
    "    smooth_win=smooth_win*4, \n",
    "    color='teal'\n",
    "    )\n",
    "  \n",
    "prior_coeff_idx = best_prior_coeff_idx\n",
    "prior_coeff = prior_coeffs[prior_coeff_idx]\n",
    "evals = prior_coeff_evals[prior_coeff_idx]\n",
    "perf_evals = list(zip(*evals))[0]\n",
    "utils.plot_perf_evals(\n",
    "    perf_evals, \n",
    "    x_key, \n",
    "    y_key, \n",
    "    label='ReQueST (Ours)', \n",
    "    smooth_win=smooth_win, \n",
    "    color='orange'\n",
    "    )\n",
    "\n",
    "plt.legend(loc='lower center', bbox_to_anchor=(0.5, -0.7), framealpha=0., ncol=1)\n",
    "\n",
    "plt.xlim([0, 9000])\n",
    "\n",
    "plt.savefig(\n",
    "    os.path.join(utils.carracing_data_dir, 'figures', 'carracing-9.pdf'), \n",
    "    dpi=500, \n",
    "    bbox_inches='tight',\n",
    "    transparent=True\n",
    "    )\n",
    "\n",
    "plt.show()"
   ]
  },
  {
   "cell_type": "code",
   "execution_count": null,
   "metadata": {
    "colab": {},
    "colab_type": "code",
    "id": "iMjm8LZBFuvC",
    "scrolled": true
   },
   "outputs": [],
   "source": []
  }
 ],
 "metadata": {
  "colab": {
   "collapsed_sections": [],
   "last_runtime": {
    "build_target": "",
    "kind": "local"
   },
   "name": "pqsynth",
   "provenance": [],
   "version": "0.3.2"
  },
  "kernelspec": {
   "display_name": "Python 3",
   "language": "python",
   "name": "python3"
  },
  "language_info": {
   "codemirror_mode": {
    "name": "ipython",
    "version": 3
   },
   "file_extension": ".py",
   "mimetype": "text/x-python",
   "name": "python",
   "nbconvert_exporter": "python",
   "pygments_lexer": "ipython3",
   "version": "3.7.3"
  }
 },
 "nbformat": 4,
 "nbformat_minor": 1
}
